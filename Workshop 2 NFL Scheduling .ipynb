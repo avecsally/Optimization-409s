{
 "cells": [
  {
   "cell_type": "markdown",
   "metadata": {},
   "source": [
    "# Game Schedule for U.S. National Football League"
   ]
  },
  {
   "cell_type": "markdown",
   "metadata": {},
   "source": [
    "Fall 2020 Optimization "
   ]
  },
  {
   "cell_type": "markdown",
   "metadata": {},
   "source": [
    "Jianing Zhang, Junyi Qian, Yue Zheng, Ziqiao Yan"
   ]
  },
  {
   "cell_type": "markdown",
   "metadata": {},
   "source": [
    "\n",
    "NFL is the professional American football league consisting of 32 teams, divided equally between the National Football Conference (NFC) and the American Football Conference (AFC).\n",
    "Each conference is further divided into four division of four clubs and every NFL team is based in the contiguous United States. Since the analysis including all the teams right-away was estimated to be computationally intensive, Liang was asked to develop a preliminary analysis for a subset of teams, namely for teams in the East, North, and South divisions. This setup was agreed by the NFL schedulers to approximate the overall problem sufficiently well to come up with recommendations. Figure 1 shows all the 24 teams that are included in the analysis."
   ]
  },
  {
   "cell_type": "markdown",
   "metadata": {},
   "source": [
    "The scheduling of games for the selected subset of teams is constrained by the following four main rules:"
   ]
  },
  {
   "cell_type": "markdown",
   "metadata": {},
   "source": [
    "1. The season was limited to 12 weeks.\n",
    "2. Each team would play once per week.\n",
    "3. All 12 games that a team played would need to be against a different opponent.\n",
    "4. Each team would play at most six home games (i.e., on their home stadium)."
   ]
  },
  {
   "cell_type": "markdown",
   "metadata": {},
   "source": [
    "Whereas the overall goal was to reduce the total distance that the teams travelled, there were also other considerations, such as the fairness of the game schedule for all teams and the fairness of the game schedule for broad casting companies. With these thoughts in mind, Liang embarked on the analysis of the NFL game scheduling."
   ]
  },
  {
   "cell_type": "markdown",
   "metadata": {},
   "source": [
    "## Assignment"
   ]
  },
  {
   "cell_type": "markdown",
   "metadata": {},
   "source": [
    "\n",
    "In this workshop, you will build an integer programming model and use the results of the optimization to support your recommendations. Make a report of about 3 pages (excluding figures, graphs and appendices) summarizing your results, your interpretation of the results and your conclusions and recommendations. You can include graphs and outputs in an appendix, but make sure to summarize and interpret the results in your report as well."
   ]
  },
  {
   "cell_type": "code",
   "execution_count": 3,
   "metadata": {},
   "outputs": [],
   "source": [
    "import gurobipy as gp\n",
    "from gurobipy import GRB\n",
    "from gurobipy import *\n",
    "import pandas as pd\n",
    "import numpy as np"
   ]
  },
  {
   "cell_type": "code",
   "execution_count": 11,
   "metadata": {},
   "outputs": [],
   "source": [
    "#list of teams that are included in the analysis\n",
    "Team_list={\n",
    "0:\"Atlanta Falcons\",1:\"Carolina Panthers\",2:\"Chicago Bears\",3:\"Detroit Lions\",\n",
    "4:\"Green Bay Packers\",5:\"Minnesota Vikings\",6:\"New Orleans Saints\",7:\"New York Giants\",\n",
    "8:\"Philadelpia Eagles\",9:\"Tampa Bay Buccaneers\",10:\"Washington Football Team\",11:\"Baltimore Ravens\",\n",
    "12:\"Buffalo Bills\",13:\"Cincinnati Bengals\",14:\"Cleveland Browns\",15:\"Houston Texans\",\n",
    "16:\"Indianapolis Colts\",17:\"Jacksonville Jaguars\",18:\"Miami Dolphins\",19:\"New England Patroits\",\n",
    "20:\"New York Jets\",21:\"Pittsburgh Steelers\",22:\"Tennessee Titans\",23:\"Dalls Cowboys\"}"
   ]
  },
  {
   "cell_type": "code",
   "execution_count": 22,
   "metadata": {},
   "outputs": [],
   "source": [
    "W=set(list(range(0,12))) #set of weeks, total of 12 weeks\n",
    "T=set(list(range(0,24))) #set of teams all, total of 24 teams\n",
    " #set of conference\n",
    "D1=set(list(range(0,12)))  #set of AFC teams\n",
    "D2=set(list(range(12,24))) #set of NFC teams\n",
    "\n",
    "#read the distance file\n",
    "E=pd.read_csv(\"distance.csv\",index_col=0)"
   ]
  },
  {
   "cell_type": "code",
   "execution_count": 23,
   "metadata": {},
   "outputs": [
    {
     "data": {
      "text/html": [
       "<div>\n",
       "<style scoped>\n",
       "    .dataframe tbody tr th:only-of-type {\n",
       "        vertical-align: middle;\n",
       "    }\n",
       "\n",
       "    .dataframe tbody tr th {\n",
       "        vertical-align: top;\n",
       "    }\n",
       "\n",
       "    .dataframe thead th {\n",
       "        text-align: right;\n",
       "    }\n",
       "</style>\n",
       "<table border=\"1\" class=\"dataframe\">\n",
       "  <thead>\n",
       "    <tr style=\"text-align: right;\">\n",
       "      <th></th>\n",
       "      <th>Atlanta Falcons</th>\n",
       "      <th>Carolina Panthers</th>\n",
       "      <th>Chicago Bears</th>\n",
       "      <th>Detroit Lions</th>\n",
       "      <th>Green Bay Packers</th>\n",
       "      <th>Minnesota Vikings</th>\n",
       "      <th>New Orleans Saints</th>\n",
       "      <th>New York Giants</th>\n",
       "      <th>Philadelpia Eagles</th>\n",
       "      <th>Tampa Bay Buccaneers</th>\n",
       "      <th>...</th>\n",
       "      <th>Cleveland Browns</th>\n",
       "      <th>Houston Texans</th>\n",
       "      <th>Indianapolis Colts</th>\n",
       "      <th>Jacksonville Jaguars</th>\n",
       "      <th>Miami Dolphins</th>\n",
       "      <th>New England Patroits</th>\n",
       "      <th>New York Jets</th>\n",
       "      <th>Pittsburgh Steelers</th>\n",
       "      <th>Tennessee Titans</th>\n",
       "      <th>Dallas Cowboys</th>\n",
       "    </tr>\n",
       "  </thead>\n",
       "  <tbody>\n",
       "    <tr>\n",
       "      <th>Atlanta Falcons</th>\n",
       "      <td>0</td>\n",
       "      <td>245</td>\n",
       "      <td>717</td>\n",
       "      <td>722</td>\n",
       "      <td>922</td>\n",
       "      <td>1113</td>\n",
       "      <td>470</td>\n",
       "      <td>864</td>\n",
       "      <td>777</td>\n",
       "      <td>456</td>\n",
       "      <td>...</td>\n",
       "      <td>710</td>\n",
       "      <td>793</td>\n",
       "      <td>534</td>\n",
       "      <td>346</td>\n",
       "      <td>650</td>\n",
       "      <td>1063</td>\n",
       "      <td>864</td>\n",
       "      <td>685</td>\n",
       "      <td>250</td>\n",
       "      <td>793</td>\n",
       "    </tr>\n",
       "    <tr>\n",
       "      <th>Carolina Panthers</th>\n",
       "      <td>245</td>\n",
       "      <td>0</td>\n",
       "      <td>756</td>\n",
       "      <td>629</td>\n",
       "      <td>961</td>\n",
       "      <td>1163</td>\n",
       "      <td>715</td>\n",
       "      <td>625</td>\n",
       "      <td>537</td>\n",
       "      <td>580</td>\n",
       "      <td>...</td>\n",
       "      <td>515</td>\n",
       "      <td>1038</td>\n",
       "      <td>585</td>\n",
       "      <td>383</td>\n",
       "      <td>717</td>\n",
       "      <td>824</td>\n",
       "      <td>625</td>\n",
       "      <td>447</td>\n",
       "      <td>409</td>\n",
       "      <td>1026</td>\n",
       "    </tr>\n",
       "    <tr>\n",
       "      <th>Chicago Bears</th>\n",
       "      <td>717</td>\n",
       "      <td>756</td>\n",
       "      <td>0</td>\n",
       "      <td>284</td>\n",
       "      <td>207</td>\n",
       "      <td>409</td>\n",
       "      <td>925</td>\n",
       "      <td>787</td>\n",
       "      <td>758</td>\n",
       "      <td>1173</td>\n",
       "      <td>...</td>\n",
       "      <td>344</td>\n",
       "      <td>1082</td>\n",
       "      <td>184</td>\n",
       "      <td>1062</td>\n",
       "      <td>1367</td>\n",
       "      <td>982</td>\n",
       "      <td>787</td>\n",
       "      <td>460</td>\n",
       "      <td>472</td>\n",
       "      <td>967</td>\n",
       "    </tr>\n",
       "    <tr>\n",
       "      <th>Detroit Lions</th>\n",
       "      <td>722</td>\n",
       "      <td>629</td>\n",
       "      <td>284</td>\n",
       "      <td>0</td>\n",
       "      <td>489</td>\n",
       "      <td>691</td>\n",
       "      <td>1067</td>\n",
       "      <td>613</td>\n",
       "      <td>583</td>\n",
       "      <td>1178</td>\n",
       "      <td>...</td>\n",
       "      <td>170</td>\n",
       "      <td>1302</td>\n",
       "      <td>287</td>\n",
       "      <td>1010</td>\n",
       "      <td>1385</td>\n",
       "      <td>706</td>\n",
       "      <td>613</td>\n",
       "      <td>286</td>\n",
       "      <td>534</td>\n",
       "      <td>1187</td>\n",
       "    </tr>\n",
       "    <tr>\n",
       "      <th>Green Bay Packers</th>\n",
       "      <td>922</td>\n",
       "      <td>961</td>\n",
       "      <td>207</td>\n",
       "      <td>489</td>\n",
       "      <td>0</td>\n",
       "      <td>279</td>\n",
       "      <td>1130</td>\n",
       "      <td>993</td>\n",
       "      <td>964</td>\n",
       "      <td>1382</td>\n",
       "      <td>...</td>\n",
       "      <td>550</td>\n",
       "      <td>1287</td>\n",
       "      <td>394</td>\n",
       "      <td>1272</td>\n",
       "      <td>1578</td>\n",
       "      <td>1189</td>\n",
       "      <td>995</td>\n",
       "      <td>668</td>\n",
       "      <td>683</td>\n",
       "      <td>1173</td>\n",
       "    </tr>\n",
       "    <tr>\n",
       "      <th>Minnesota Vikings</th>\n",
       "      <td>1113</td>\n",
       "      <td>1163</td>\n",
       "      <td>409</td>\n",
       "      <td>691</td>\n",
       "      <td>279</td>\n",
       "      <td>0</td>\n",
       "      <td>1199</td>\n",
       "      <td>1195</td>\n",
       "      <td>1165</td>\n",
       "      <td>1580</td>\n",
       "      <td>...</td>\n",
       "      <td>752</td>\n",
       "      <td>1176</td>\n",
       "      <td>591</td>\n",
       "      <td>1435</td>\n",
       "      <td>1774</td>\n",
       "      <td>1389</td>\n",
       "      <td>1195</td>\n",
       "      <td>868</td>\n",
       "      <td>879</td>\n",
       "      <td>940</td>\n",
       "    </tr>\n",
       "    <tr>\n",
       "      <th>New Orleans Saints</th>\n",
       "      <td>470</td>\n",
       "      <td>715</td>\n",
       "      <td>925</td>\n",
       "      <td>1067</td>\n",
       "      <td>1130</td>\n",
       "      <td>1199</td>\n",
       "      <td>0</td>\n",
       "      <td>1311</td>\n",
       "      <td>1124</td>\n",
       "      <td>657</td>\n",
       "      <td>...</td>\n",
       "      <td>1051</td>\n",
       "      <td>348</td>\n",
       "      <td>819</td>\n",
       "      <td>546</td>\n",
       "      <td>851</td>\n",
       "      <td>1510</td>\n",
       "      <td>1311</td>\n",
       "      <td>1090</td>\n",
       "      <td>532</td>\n",
       "      <td>505</td>\n",
       "    </tr>\n",
       "    <tr>\n",
       "      <th>New York Giants</th>\n",
       "      <td>864</td>\n",
       "      <td>625</td>\n",
       "      <td>787</td>\n",
       "      <td>613</td>\n",
       "      <td>993</td>\n",
       "      <td>1195</td>\n",
       "      <td>1311</td>\n",
       "      <td>0</td>\n",
       "      <td>96</td>\n",
       "      <td>1131</td>\n",
       "      <td>...</td>\n",
       "      <td>456</td>\n",
       "      <td>1629</td>\n",
       "      <td>728</td>\n",
       "      <td>934</td>\n",
       "      <td>1268</td>\n",
       "      <td>204</td>\n",
       "      <td>0</td>\n",
       "      <td>364</td>\n",
       "      <td>886</td>\n",
       "      <td>1549</td>\n",
       "    </tr>\n",
       "    <tr>\n",
       "      <th>Philadelpia Eagles</th>\n",
       "      <td>777</td>\n",
       "      <td>537</td>\n",
       "      <td>758</td>\n",
       "      <td>583</td>\n",
       "      <td>964</td>\n",
       "      <td>1165</td>\n",
       "      <td>1124</td>\n",
       "      <td>96</td>\n",
       "      <td>0</td>\n",
       "      <td>1042</td>\n",
       "      <td>...</td>\n",
       "      <td>431</td>\n",
       "      <td>1547</td>\n",
       "      <td>643</td>\n",
       "      <td>846</td>\n",
       "      <td>1179</td>\n",
       "      <td>295</td>\n",
       "      <td>96</td>\n",
       "      <td>305</td>\n",
       "      <td>804</td>\n",
       "      <td>1467</td>\n",
       "    </tr>\n",
       "    <tr>\n",
       "      <th>Tampa Bay Buccaneers</th>\n",
       "      <td>456</td>\n",
       "      <td>580</td>\n",
       "      <td>1173</td>\n",
       "      <td>1178</td>\n",
       "      <td>1382</td>\n",
       "      <td>1580</td>\n",
       "      <td>657</td>\n",
       "      <td>1131</td>\n",
       "      <td>1042</td>\n",
       "      <td>0</td>\n",
       "      <td>...</td>\n",
       "      <td>1094</td>\n",
       "      <td>981</td>\n",
       "      <td>990</td>\n",
       "      <td>199</td>\n",
       "      <td>267</td>\n",
       "      <td>1328</td>\n",
       "      <td>1129</td>\n",
       "      <td>1026</td>\n",
       "      <td>705</td>\n",
       "      <td>1103</td>\n",
       "    </tr>\n",
       "    <tr>\n",
       "      <th>Washington Football Team</th>\n",
       "      <td>646</td>\n",
       "      <td>407</td>\n",
       "      <td>703</td>\n",
       "      <td>529</td>\n",
       "      <td>909</td>\n",
       "      <td>1111</td>\n",
       "      <td>1096</td>\n",
       "      <td>223</td>\n",
       "      <td>134</td>\n",
       "      <td>911</td>\n",
       "      <td>...</td>\n",
       "      <td>379</td>\n",
       "      <td>1420</td>\n",
       "      <td>583</td>\n",
       "      <td>715</td>\n",
       "      <td>1048</td>\n",
       "      <td>422</td>\n",
       "      <td>222</td>\n",
       "      <td>252</td>\n",
       "      <td>677</td>\n",
       "      <td>1340</td>\n",
       "    </tr>\n",
       "    <tr>\n",
       "      <th>Baltimore Ravens</th>\n",
       "      <td>676</td>\n",
       "      <td>437</td>\n",
       "      <td>702</td>\n",
       "      <td>528</td>\n",
       "      <td>908</td>\n",
       "      <td>1109</td>\n",
       "      <td>1122</td>\n",
       "      <td>189</td>\n",
       "      <td>101</td>\n",
       "      <td>941</td>\n",
       "      <td>...</td>\n",
       "      <td>374</td>\n",
       "      <td>1446</td>\n",
       "      <td>578</td>\n",
       "      <td>751</td>\n",
       "      <td>1085</td>\n",
       "      <td>392</td>\n",
       "      <td>193</td>\n",
       "      <td>247</td>\n",
       "      <td>703</td>\n",
       "      <td>1366</td>\n",
       "    </tr>\n",
       "    <tr>\n",
       "      <th>Buffalo Bills</th>\n",
       "      <td>888</td>\n",
       "      <td>651</td>\n",
       "      <td>528</td>\n",
       "      <td>270</td>\n",
       "      <td>734</td>\n",
       "      <td>935</td>\n",
       "      <td>1230</td>\n",
       "      <td>355</td>\n",
       "      <td>362</td>\n",
       "      <td>1230</td>\n",
       "      <td>...</td>\n",
       "      <td>185</td>\n",
       "      <td>1477</td>\n",
       "      <td>494</td>\n",
       "      <td>1033</td>\n",
       "      <td>1367</td>\n",
       "      <td>461</td>\n",
       "      <td>359</td>\n",
       "      <td>211</td>\n",
       "      <td>700</td>\n",
       "      <td>1362</td>\n",
       "    </tr>\n",
       "    <tr>\n",
       "      <th>Cincinnati Bengals</th>\n",
       "      <td>461</td>\n",
       "      <td>462</td>\n",
       "      <td>297</td>\n",
       "      <td>263</td>\n",
       "      <td>507</td>\n",
       "      <td>704</td>\n",
       "      <td>802</td>\n",
       "      <td>662</td>\n",
       "      <td>573</td>\n",
       "      <td>916</td>\n",
       "      <td>...</td>\n",
       "      <td>250</td>\n",
       "      <td>1049</td>\n",
       "      <td>112</td>\n",
       "      <td>796</td>\n",
       "      <td>1111</td>\n",
       "      <td>840</td>\n",
       "      <td>641</td>\n",
       "      <td>288</td>\n",
       "      <td>273</td>\n",
       "      <td>934</td>\n",
       "    </tr>\n",
       "    <tr>\n",
       "      <th>Cleveland Browns</th>\n",
       "      <td>710</td>\n",
       "      <td>515</td>\n",
       "      <td>344</td>\n",
       "      <td>170</td>\n",
       "      <td>550</td>\n",
       "      <td>752</td>\n",
       "      <td>1051</td>\n",
       "      <td>456</td>\n",
       "      <td>431</td>\n",
       "      <td>1094</td>\n",
       "      <td>...</td>\n",
       "      <td>0</td>\n",
       "      <td>1297</td>\n",
       "      <td>315</td>\n",
       "      <td>896</td>\n",
       "      <td>1230</td>\n",
       "      <td>639</td>\n",
       "      <td>460</td>\n",
       "      <td>133</td>\n",
       "      <td>521</td>\n",
       "      <td>1183</td>\n",
       "    </tr>\n",
       "    <tr>\n",
       "      <th>Houston Texans</th>\n",
       "      <td>793</td>\n",
       "      <td>1038</td>\n",
       "      <td>1082</td>\n",
       "      <td>1302</td>\n",
       "      <td>1287</td>\n",
       "      <td>1176</td>\n",
       "      <td>348</td>\n",
       "      <td>1629</td>\n",
       "      <td>1547</td>\n",
       "      <td>981</td>\n",
       "      <td>...</td>\n",
       "      <td>1297</td>\n",
       "      <td>0</td>\n",
       "      <td>1014</td>\n",
       "      <td>870</td>\n",
       "      <td>1175</td>\n",
       "      <td>1834</td>\n",
       "      <td>1635</td>\n",
       "      <td>1336</td>\n",
       "      <td>779</td>\n",
       "      <td>239</td>\n",
       "    </tr>\n",
       "    <tr>\n",
       "      <th>Indianapolis Colts</th>\n",
       "      <td>534</td>\n",
       "      <td>585</td>\n",
       "      <td>184</td>\n",
       "      <td>287</td>\n",
       "      <td>394</td>\n",
       "      <td>591</td>\n",
       "      <td>819</td>\n",
       "      <td>728</td>\n",
       "      <td>643</td>\n",
       "      <td>990</td>\n",
       "      <td>...</td>\n",
       "      <td>315</td>\n",
       "      <td>1014</td>\n",
       "      <td>0</td>\n",
       "      <td>879</td>\n",
       "      <td>1183</td>\n",
       "      <td>929</td>\n",
       "      <td>733</td>\n",
       "      <td>359</td>\n",
       "      <td>288</td>\n",
       "      <td>900</td>\n",
       "    </tr>\n",
       "    <tr>\n",
       "      <th>Jacksonville Jaguars</th>\n",
       "      <td>346</td>\n",
       "      <td>383</td>\n",
       "      <td>1062</td>\n",
       "      <td>1010</td>\n",
       "      <td>1272</td>\n",
       "      <td>1435</td>\n",
       "      <td>546</td>\n",
       "      <td>934</td>\n",
       "      <td>846</td>\n",
       "      <td>199</td>\n",
       "      <td>...</td>\n",
       "      <td>896</td>\n",
       "      <td>870</td>\n",
       "      <td>879</td>\n",
       "      <td>0</td>\n",
       "      <td>333</td>\n",
       "      <td>1131</td>\n",
       "      <td>932</td>\n",
       "      <td>829</td>\n",
       "      <td>595</td>\n",
       "      <td>992</td>\n",
       "    </tr>\n",
       "    <tr>\n",
       "      <th>Miami Dolphins</th>\n",
       "      <td>650</td>\n",
       "      <td>717</td>\n",
       "      <td>1367</td>\n",
       "      <td>1385</td>\n",
       "      <td>1578</td>\n",
       "      <td>1774</td>\n",
       "      <td>851</td>\n",
       "      <td>1268</td>\n",
       "      <td>1179</td>\n",
       "      <td>267</td>\n",
       "      <td>...</td>\n",
       "      <td>1230</td>\n",
       "      <td>1175</td>\n",
       "      <td>1183</td>\n",
       "      <td>333</td>\n",
       "      <td>0</td>\n",
       "      <td>1465</td>\n",
       "      <td>1266</td>\n",
       "      <td>1163</td>\n",
       "      <td>899</td>\n",
       "      <td>1297</td>\n",
       "    </tr>\n",
       "    <tr>\n",
       "      <th>New England Patroits</th>\n",
       "      <td>1063</td>\n",
       "      <td>824</td>\n",
       "      <td>982</td>\n",
       "      <td>706</td>\n",
       "      <td>1189</td>\n",
       "      <td>1389</td>\n",
       "      <td>1510</td>\n",
       "      <td>204</td>\n",
       "      <td>295</td>\n",
       "      <td>1328</td>\n",
       "      <td>...</td>\n",
       "      <td>639</td>\n",
       "      <td>1834</td>\n",
       "      <td>929</td>\n",
       "      <td>1131</td>\n",
       "      <td>1465</td>\n",
       "      <td>0</td>\n",
       "      <td>216</td>\n",
       "      <td>571</td>\n",
       "      <td>1085</td>\n",
       "      <td>1748</td>\n",
       "    </tr>\n",
       "    <tr>\n",
       "      <th>New York Jets</th>\n",
       "      <td>864</td>\n",
       "      <td>625</td>\n",
       "      <td>787</td>\n",
       "      <td>613</td>\n",
       "      <td>995</td>\n",
       "      <td>1195</td>\n",
       "      <td>1311</td>\n",
       "      <td>0</td>\n",
       "      <td>96</td>\n",
       "      <td>1129</td>\n",
       "      <td>...</td>\n",
       "      <td>460</td>\n",
       "      <td>1635</td>\n",
       "      <td>733</td>\n",
       "      <td>932</td>\n",
       "      <td>1266</td>\n",
       "      <td>216</td>\n",
       "      <td>0</td>\n",
       "      <td>371</td>\n",
       "      <td>891</td>\n",
       "      <td>1554</td>\n",
       "    </tr>\n",
       "    <tr>\n",
       "      <th>Pittsburgh Steelers</th>\n",
       "      <td>685</td>\n",
       "      <td>447</td>\n",
       "      <td>460</td>\n",
       "      <td>286</td>\n",
       "      <td>668</td>\n",
       "      <td>868</td>\n",
       "      <td>1090</td>\n",
       "      <td>364</td>\n",
       "      <td>305</td>\n",
       "      <td>1026</td>\n",
       "      <td>...</td>\n",
       "      <td>133</td>\n",
       "      <td>1336</td>\n",
       "      <td>359</td>\n",
       "      <td>829</td>\n",
       "      <td>1163</td>\n",
       "      <td>571</td>\n",
       "      <td>371</td>\n",
       "      <td>0</td>\n",
       "      <td>561</td>\n",
       "      <td>1223</td>\n",
       "    </tr>\n",
       "    <tr>\n",
       "      <th>Tennessee Titans</th>\n",
       "      <td>250</td>\n",
       "      <td>409</td>\n",
       "      <td>472</td>\n",
       "      <td>534</td>\n",
       "      <td>683</td>\n",
       "      <td>879</td>\n",
       "      <td>532</td>\n",
       "      <td>886</td>\n",
       "      <td>804</td>\n",
       "      <td>705</td>\n",
       "      <td>...</td>\n",
       "      <td>521</td>\n",
       "      <td>779</td>\n",
       "      <td>288</td>\n",
       "      <td>595</td>\n",
       "      <td>899</td>\n",
       "      <td>1085</td>\n",
       "      <td>891</td>\n",
       "      <td>561</td>\n",
       "      <td>0</td>\n",
       "      <td>664</td>\n",
       "    </tr>\n",
       "    <tr>\n",
       "      <th>Dalls Cowboys</th>\n",
       "      <td>793</td>\n",
       "      <td>1026</td>\n",
       "      <td>967</td>\n",
       "      <td>1187</td>\n",
       "      <td>1173</td>\n",
       "      <td>940</td>\n",
       "      <td>505</td>\n",
       "      <td>1549</td>\n",
       "      <td>1467</td>\n",
       "      <td>1103</td>\n",
       "      <td>...</td>\n",
       "      <td>1183</td>\n",
       "      <td>239</td>\n",
       "      <td>900</td>\n",
       "      <td>992</td>\n",
       "      <td>1297</td>\n",
       "      <td>1748</td>\n",
       "      <td>1554</td>\n",
       "      <td>1223</td>\n",
       "      <td>664</td>\n",
       "      <td>0</td>\n",
       "    </tr>\n",
       "  </tbody>\n",
       "</table>\n",
       "<p>24 rows × 24 columns</p>\n",
       "</div>"
      ],
      "text/plain": [
       "                          Atlanta Falcons  Carolina Panthers  Chicago Bears  \\\n",
       "Atlanta Falcons                         0                245            717   \n",
       "Carolina Panthers                     245                  0            756   \n",
       "Chicago Bears                         717                756              0   \n",
       "Detroit Lions                         722                629            284   \n",
       "Green Bay Packers                     922                961            207   \n",
       "Minnesota Vikings                    1113               1163            409   \n",
       "New Orleans Saints                    470                715            925   \n",
       "New York Giants                       864                625            787   \n",
       "Philadelpia Eagles                    777                537            758   \n",
       "Tampa Bay Buccaneers                  456                580           1173   \n",
       "Washington Football Team              646                407            703   \n",
       "Baltimore Ravens                      676                437            702   \n",
       "Buffalo Bills                         888                651            528   \n",
       "Cincinnati Bengals                    461                462            297   \n",
       "Cleveland Browns                      710                515            344   \n",
       "Houston Texans                        793               1038           1082   \n",
       "Indianapolis Colts                    534                585            184   \n",
       "Jacksonville Jaguars                  346                383           1062   \n",
       "Miami Dolphins                        650                717           1367   \n",
       "New England Patroits                 1063                824            982   \n",
       "New York Jets                         864                625            787   \n",
       "Pittsburgh Steelers                   685                447            460   \n",
       "Tennessee Titans                      250                409            472   \n",
       "Dalls Cowboys                         793               1026            967   \n",
       "\n",
       "                          Detroit Lions  Green Bay Packers  Minnesota Vikings  \\\n",
       "Atlanta Falcons                     722                922               1113   \n",
       "Carolina Panthers                   629                961               1163   \n",
       "Chicago Bears                       284                207                409   \n",
       "Detroit Lions                         0                489                691   \n",
       "Green Bay Packers                   489                  0                279   \n",
       "Minnesota Vikings                   691                279                  0   \n",
       "New Orleans Saints                 1067               1130               1199   \n",
       "New York Giants                     613                993               1195   \n",
       "Philadelpia Eagles                  583                964               1165   \n",
       "Tampa Bay Buccaneers               1178               1382               1580   \n",
       "Washington Football Team            529                909               1111   \n",
       "Baltimore Ravens                    528                908               1109   \n",
       "Buffalo Bills                       270                734                935   \n",
       "Cincinnati Bengals                  263                507                704   \n",
       "Cleveland Browns                    170                550                752   \n",
       "Houston Texans                     1302               1287               1176   \n",
       "Indianapolis Colts                  287                394                591   \n",
       "Jacksonville Jaguars               1010               1272               1435   \n",
       "Miami Dolphins                     1385               1578               1774   \n",
       "New England Patroits                706               1189               1389   \n",
       "New York Jets                       613                995               1195   \n",
       "Pittsburgh Steelers                 286                668                868   \n",
       "Tennessee Titans                    534                683                879   \n",
       "Dalls Cowboys                      1187               1173                940   \n",
       "\n",
       "                          New Orleans Saints  New York Giants  \\\n",
       "Atlanta Falcons                          470              864   \n",
       "Carolina Panthers                        715              625   \n",
       "Chicago Bears                            925              787   \n",
       "Detroit Lions                           1067              613   \n",
       "Green Bay Packers                       1130              993   \n",
       "Minnesota Vikings                       1199             1195   \n",
       "New Orleans Saints                         0             1311   \n",
       "New York Giants                         1311                0   \n",
       "Philadelpia Eagles                      1124               96   \n",
       "Tampa Bay Buccaneers                     657             1131   \n",
       "Washington Football Team                1096              223   \n",
       "Baltimore Ravens                        1122              189   \n",
       "Buffalo Bills                           1230              355   \n",
       "Cincinnati Bengals                       802              662   \n",
       "Cleveland Browns                        1051              456   \n",
       "Houston Texans                           348             1629   \n",
       "Indianapolis Colts                       819              728   \n",
       "Jacksonville Jaguars                     546              934   \n",
       "Miami Dolphins                           851             1268   \n",
       "New England Patroits                    1510              204   \n",
       "New York Jets                           1311                0   \n",
       "Pittsburgh Steelers                     1090              364   \n",
       "Tennessee Titans                         532              886   \n",
       "Dalls Cowboys                            505             1549   \n",
       "\n",
       "                          Philadelpia Eagles  Tampa Bay Buccaneers  ...  \\\n",
       "Atlanta Falcons                          777                   456  ...   \n",
       "Carolina Panthers                        537                   580  ...   \n",
       "Chicago Bears                            758                  1173  ...   \n",
       "Detroit Lions                            583                  1178  ...   \n",
       "Green Bay Packers                        964                  1382  ...   \n",
       "Minnesota Vikings                       1165                  1580  ...   \n",
       "New Orleans Saints                      1124                   657  ...   \n",
       "New York Giants                           96                  1131  ...   \n",
       "Philadelpia Eagles                         0                  1042  ...   \n",
       "Tampa Bay Buccaneers                    1042                     0  ...   \n",
       "Washington Football Team                 134                   911  ...   \n",
       "Baltimore Ravens                         101                   941  ...   \n",
       "Buffalo Bills                            362                  1230  ...   \n",
       "Cincinnati Bengals                       573                   916  ...   \n",
       "Cleveland Browns                         431                  1094  ...   \n",
       "Houston Texans                          1547                   981  ...   \n",
       "Indianapolis Colts                       643                   990  ...   \n",
       "Jacksonville Jaguars                     846                   199  ...   \n",
       "Miami Dolphins                          1179                   267  ...   \n",
       "New England Patroits                     295                  1328  ...   \n",
       "New York Jets                             96                  1129  ...   \n",
       "Pittsburgh Steelers                      305                  1026  ...   \n",
       "Tennessee Titans                         804                   705  ...   \n",
       "Dalls Cowboys                           1467                  1103  ...   \n",
       "\n",
       "                          Cleveland Browns  Houston Texans  \\\n",
       "Atlanta Falcons                        710             793   \n",
       "Carolina Panthers                      515            1038   \n",
       "Chicago Bears                          344            1082   \n",
       "Detroit Lions                          170            1302   \n",
       "Green Bay Packers                      550            1287   \n",
       "Minnesota Vikings                      752            1176   \n",
       "New Orleans Saints                    1051             348   \n",
       "New York Giants                        456            1629   \n",
       "Philadelpia Eagles                     431            1547   \n",
       "Tampa Bay Buccaneers                  1094             981   \n",
       "Washington Football Team               379            1420   \n",
       "Baltimore Ravens                       374            1446   \n",
       "Buffalo Bills                          185            1477   \n",
       "Cincinnati Bengals                     250            1049   \n",
       "Cleveland Browns                         0            1297   \n",
       "Houston Texans                        1297               0   \n",
       "Indianapolis Colts                     315            1014   \n",
       "Jacksonville Jaguars                   896             870   \n",
       "Miami Dolphins                        1230            1175   \n",
       "New England Patroits                   639            1834   \n",
       "New York Jets                          460            1635   \n",
       "Pittsburgh Steelers                    133            1336   \n",
       "Tennessee Titans                       521             779   \n",
       "Dalls Cowboys                         1183             239   \n",
       "\n",
       "                          Indianapolis Colts  Jacksonville Jaguars  \\\n",
       "Atlanta Falcons                          534                   346   \n",
       "Carolina Panthers                        585                   383   \n",
       "Chicago Bears                            184                  1062   \n",
       "Detroit Lions                            287                  1010   \n",
       "Green Bay Packers                        394                  1272   \n",
       "Minnesota Vikings                        591                  1435   \n",
       "New Orleans Saints                       819                   546   \n",
       "New York Giants                          728                   934   \n",
       "Philadelpia Eagles                       643                   846   \n",
       "Tampa Bay Buccaneers                     990                   199   \n",
       "Washington Football Team                 583                   715   \n",
       "Baltimore Ravens                         578                   751   \n",
       "Buffalo Bills                            494                  1033   \n",
       "Cincinnati Bengals                       112                   796   \n",
       "Cleveland Browns                         315                   896   \n",
       "Houston Texans                          1014                   870   \n",
       "Indianapolis Colts                         0                   879   \n",
       "Jacksonville Jaguars                     879                     0   \n",
       "Miami Dolphins                          1183                   333   \n",
       "New England Patroits                     929                  1131   \n",
       "New York Jets                            733                   932   \n",
       "Pittsburgh Steelers                      359                   829   \n",
       "Tennessee Titans                         288                   595   \n",
       "Dalls Cowboys                            900                   992   \n",
       "\n",
       "                          Miami Dolphins  New England Patroits  New York Jets  \\\n",
       "Atlanta Falcons                      650                  1063            864   \n",
       "Carolina Panthers                    717                   824            625   \n",
       "Chicago Bears                       1367                   982            787   \n",
       "Detroit Lions                       1385                   706            613   \n",
       "Green Bay Packers                   1578                  1189            995   \n",
       "Minnesota Vikings                   1774                  1389           1195   \n",
       "New Orleans Saints                   851                  1510           1311   \n",
       "New York Giants                     1268                   204              0   \n",
       "Philadelpia Eagles                  1179                   295             96   \n",
       "Tampa Bay Buccaneers                 267                  1328           1129   \n",
       "Washington Football Team            1048                   422            222   \n",
       "Baltimore Ravens                    1085                   392            193   \n",
       "Buffalo Bills                       1367                   461            359   \n",
       "Cincinnati Bengals                  1111                   840            641   \n",
       "Cleveland Browns                    1230                   639            460   \n",
       "Houston Texans                      1175                  1834           1635   \n",
       "Indianapolis Colts                  1183                   929            733   \n",
       "Jacksonville Jaguars                 333                  1131            932   \n",
       "Miami Dolphins                         0                  1465           1266   \n",
       "New England Patroits                1465                     0            216   \n",
       "New York Jets                       1266                   216              0   \n",
       "Pittsburgh Steelers                 1163                   571            371   \n",
       "Tennessee Titans                     899                  1085            891   \n",
       "Dalls Cowboys                       1297                  1748           1554   \n",
       "\n",
       "                          Pittsburgh Steelers  Tennessee Titans  \\\n",
       "Atlanta Falcons                           685               250   \n",
       "Carolina Panthers                         447               409   \n",
       "Chicago Bears                             460               472   \n",
       "Detroit Lions                             286               534   \n",
       "Green Bay Packers                         668               683   \n",
       "Minnesota Vikings                         868               879   \n",
       "New Orleans Saints                       1090               532   \n",
       "New York Giants                           364               886   \n",
       "Philadelpia Eagles                        305               804   \n",
       "Tampa Bay Buccaneers                     1026               705   \n",
       "Washington Football Team                  252               677   \n",
       "Baltimore Ravens                          247               703   \n",
       "Buffalo Bills                             211               700   \n",
       "Cincinnati Bengals                        288               273   \n",
       "Cleveland Browns                          133               521   \n",
       "Houston Texans                           1336               779   \n",
       "Indianapolis Colts                        359               288   \n",
       "Jacksonville Jaguars                      829               595   \n",
       "Miami Dolphins                           1163               899   \n",
       "New England Patroits                      571              1085   \n",
       "New York Jets                             371               891   \n",
       "Pittsburgh Steelers                         0               561   \n",
       "Tennessee Titans                          561                 0   \n",
       "Dalls Cowboys                            1223               664   \n",
       "\n",
       "                          Dallas Cowboys  \n",
       "Atlanta Falcons                      793  \n",
       "Carolina Panthers                   1026  \n",
       "Chicago Bears                        967  \n",
       "Detroit Lions                       1187  \n",
       "Green Bay Packers                   1173  \n",
       "Minnesota Vikings                    940  \n",
       "New Orleans Saints                   505  \n",
       "New York Giants                     1549  \n",
       "Philadelpia Eagles                  1467  \n",
       "Tampa Bay Buccaneers                1103  \n",
       "Washington Football Team            1340  \n",
       "Baltimore Ravens                    1366  \n",
       "Buffalo Bills                       1362  \n",
       "Cincinnati Bengals                   934  \n",
       "Cleveland Browns                    1183  \n",
       "Houston Texans                       239  \n",
       "Indianapolis Colts                   900  \n",
       "Jacksonville Jaguars                 992  \n",
       "Miami Dolphins                      1297  \n",
       "New England Patroits                1748  \n",
       "New York Jets                       1554  \n",
       "Pittsburgh Steelers                 1223  \n",
       "Tennessee Titans                     664  \n",
       "Dalls Cowboys                          0  \n",
       "\n",
       "[24 rows x 24 columns]"
      ]
     },
     "execution_count": 23,
     "metadata": {},
     "output_type": "execute_result"
    }
   ],
   "source": [
    "E"
   ]
  },
  {
   "cell_type": "code",
   "execution_count": null,
   "metadata": {},
   "outputs": [],
   "source": [
    "########################################\n",
    "########### MODEL ######################\n",
    "########################################\n",
    "\n",
    "# Create an empty model\n",
    "m1= gp.Model(name=\"NFL1\")"
   ]
  },
  {
   "cell_type": "markdown",
   "metadata": {},
   "source": [
    "## 1. The Plain Vanilla Schedule"
   ]
  },
  {
   "cell_type": "markdown",
   "metadata": {},
   "source": [
    "To start, develop a schedule that <strong>minimizes the total travel distance of all teams</strong>. The distances between the home stadiums of each team are shown in miles in the file “distance.cvs”. When calculating the distances that teams travel, you can assume that after each game the team that played away will travel back to their home stadium before the next game. Include in your model the four main rules."
   ]
  },
  {
   "cell_type": "markdown",
   "metadata": {},
   "source": [
    "#### - What are the decision variables in this problem?"
   ]
  },
  {
   "cell_type": "markdown",
   "metadata": {},
   "source": [
    "The decision variable should be considered as a binary indication of weather home team $h$ would play against away team $a$ on week $w$. For example, if $x_{h,a,w}$ equals to 1, is means that the home team $h$ would play against with away team $a$ on week $w$. Otherwise, the game does not happen. "
   ]
  },
  {
   "cell_type": "markdown",
   "metadata": {},
   "source": [
    "#### - What is the objective function? What are the constraints?"
   ]
  },
  {
   "cell_type": "markdown",
   "metadata": {},
   "source": [
    "The objective function which minimizes the total travel distance of all teams should be the summed product of all the teams travel distances through out the 12 weeks. If we assume the travel distance from the origin to destination as $d_{h,a}$， the objective function should be defined as"
   ]
  },
  {
   "cell_type": "markdown",
   "metadata": {},
   "source": [
    "$min\\sum_{h,a,w}x_{h,a,w}\\cdot 2d_{h,a} $"
   ]
  },
  {
   "cell_type": "code",
   "execution_count": null,
   "metadata": {},
   "outputs": [],
   "source": [
    "# ADD DECISION VARIABLES HERE\n",
    "home=len(E.columns)\n",
    "away=len(E.columns)\n",
    "#teams=len(E.columns)\n",
    "weeks=12\n",
    "x=m1.addVars(home, away, weeks, vtype=GRB.BINARY, name=\"x\")"
   ]
  },
  {
   "cell_type": "code",
   "execution_count": null,
   "metadata": {},
   "outputs": [],
   "source": [
    "########################################\n",
    "#### CONSTRAINTS & OBJ FUNCTIONS #######\n",
    "########################################\n",
    "\n",
    "# ADD OBJECTIVE FUNCTION HERE\n",
    "obj = sum(sum(2*E.iloc[h,a] * x[h,a,w] for h in range(home) for a in range(away)) for w in range(weeks))\n",
    "m1.setObjective(obj, GRB.MINIMIZE)"
   ]
  },
  {
   "cell_type": "markdown",
   "metadata": {},
   "source": [
    "The constraints for the schedualing, as discussed in the problem statement as follows"
   ]
  },
  {
   "cell_type": "markdown",
   "metadata": {},
   "source": [
    "1. The season was limited to 12 weeks.\n",
    "2. Each team would play once per week.\n",
    "3. All 12 games that a team played would need to be against a different opponent.\n",
    "4. Each team would play at most six home games (i.e., on their home stadium)."
   ]
  },
  {
   "cell_type": "markdown",
   "metadata": {},
   "source": [
    "#### - Write down the mathematical formulation of the problem."
   ]
  },
  {
   "cell_type": "markdown",
   "metadata": {},
   "source": [
    "$min\\sum_{h,a,w}x_{h,a,w}\\cdot 2d_{h,a} $"
   ]
  },
  {
   "cell_type": "markdown",
   "metadata": {},
   "source": [
    "subject to "
   ]
  },
  {
   "cell_type": "markdown",
   "metadata": {},
   "source": [
    "1. The season was limited to 12 weeks:"
   ]
  },
  {
   "cell_type": "markdown",
   "metadata": {},
   "source": [
    "$\\sum_{h}\\sum_{w}[x_{h,a,w}+x_{h,a,w}]=12$"
   ]
  },
  {
   "cell_type": "code",
   "execution_count": null,
   "metadata": {},
   "outputs": [],
   "source": [
    "con1=m1.addConstrs(sum(x[h,a,w] + x[h,a,w] for h in range(home) for w in range(weeks)) == 12 \n",
    "               for a in range(away))"
   ]
  },
  {
   "cell_type": "markdown",
   "metadata": {},
   "source": [
    "2. Each team would play once per week."
   ]
  },
  {
   "cell_type": "markdown",
   "metadata": {},
   "source": [
    "$\\sum_{h}[x_{h,a,w}+x_{a,h,w}]=1$"
   ]
  },
  {
   "cell_type": "code",
   "execution_count": null,
   "metadata": {},
   "outputs": [],
   "source": [
    "con2=m1.addConstrs(sum(x[h,a,w] +x[a,h,w] for h in range(home)) == 1 \n",
    "              for w in range(weeks) for a in range(away))"
   ]
  },
  {
   "cell_type": "markdown",
   "metadata": {},
   "source": [
    "3. All 12 games that a team played would need to be against a different opponent."
   ]
  },
  {
   "cell_type": "markdown",
   "metadata": {},
   "source": [
    "$\\sum_{w}[x_{h,a,w}+x_{a,h,w}]<=1$"
   ]
  },
  {
   "cell_type": "code",
   "execution_count": null,
   "metadata": {},
   "outputs": [],
   "source": [
    "con3=m1.addConstrs(sum(x[h,a,w] + x[a,h,w] for w in range(weeks)) <= 1 \n",
    "                       for h in range(home) for a in range(away))"
   ]
  },
  {
   "cell_type": "markdown",
   "metadata": {},
   "source": [
    "4. Each team would play at most six home games (i.e., on their home stadium)."
   ]
  },
  {
   "cell_type": "markdown",
   "metadata": {},
   "source": [
    "$\\sum_{h}\\sum_{w}x_{h,a,w}<=6$"
   ]
  },
  {
   "cell_type": "code",
   "execution_count": null,
   "metadata": {},
   "outputs": [],
   "source": [
    "con4=m1.addConstrs(sum(x[h,a,w] for h in range(home) for w in range(weeks) ) <= 6 \n",
    "                   for a in range(away))"
   ]
  },
  {
   "cell_type": "markdown",
   "metadata": {},
   "source": [
    "Update and optimize the model"
   ]
  },
  {
   "cell_type": "code",
   "execution_count": null,
   "metadata": {},
   "outputs": [],
   "source": [
    "m1.update()\n",
    "m1"
   ]
  },
  {
   "cell_type": "code",
   "execution_count": null,
   "metadata": {},
   "outputs": [],
   "source": [
    "m1.optimize()"
   ]
  },
  {
   "cell_type": "markdown",
   "metadata": {},
   "source": [
    "#### Develop your optimization model and save it as “nfl 1.py”. \n",
    "\n",
    "(i) the minimum total distance travelled by all teams \n",
    "\n",
    "(ii) illustrate the optimal schedule for Cleveland Browns. How does the home and away game pattern look like for the Cleveland Browns?\n"
   ]
  },
  {
   "cell_type": "code",
   "execution_count": null,
   "metadata": {},
   "outputs": [],
   "source": [
    "########################################\n",
    "########### PRINT RESULTS ##############\n",
    "########################################\n",
    "\n",
    "# ADD PRINTING HERE:\n",
    "\n",
    "\n",
    "\n",
    "# print the total distance travelled by all teams\n",
    "\n",
    "if m1.status == GRB.OPTIMAL:\n",
    "    # Print solution\n",
    "    print(\"\\nTotal distance: {}\\n\". format(m1.ObjVal))    \n",
    "\n",
    "# print the optimal schedule for the decision variables\n",
    "\n",
    "print('\\nDecision variables:')\n",
    "for v in m1.getVars():\n",
    "    if v.x== 1:\n",
    "        s=(\"%s : %g\" % (v.varName, v.obj))\n",
    "        print(s)"
   ]
  },
  {
   "cell_type": "code",
   "execution_count": null,
   "metadata": {},
   "outputs": [],
   "source": []
  },
  {
   "cell_type": "markdown",
   "metadata": {},
   "source": [
    "## 2. Game Pattern and Bye Week Constraints"
   ]
  },
  {
   "cell_type": "markdown",
   "metadata": {},
   "source": [
    "\n",
    "The NFL schedulers asked whether it would be possible to adjust the plain vanilla schedule (which followed the four main rules) to obtain a schedule in which no team would play more than two consecutive games at home or two consecutive games away. The logic behind these game pattern constraints was to provide a fairer schedule for the teams in terms of them having similar home/away game patterns."
   ]
  },
  {
   "cell_type": "markdown",
   "metadata": {},
   "source": [
    "#### -What is the mathematical formulation for the game pattern constraints?"
   ]
  },
  {
   "cell_type": "markdown",
   "metadata": {},
   "source": [
    "In order to have no team play no more than two consecutive games at home or away, we need to have another two binary decision variables $y_{h,w}$ and $z_{h,w}$. \n",
    "\n",
    "$y_{h,w}$ denotes to weather home team $h$ plays at home in weeks $w$ and $w+1$. If $y_{h,w}=1$, it means that home team $h$ plays at home on weeks $w$ and $w+1$, $y_{h,w}=0$ otherwise. \n",
    "\n",
    "$z_{h,w}$ denotes to weather home team $h$ plays away in weeks $w$ and $w+1$. If $z_{h,w}=1$, it means that home team $h$ plays away on weeks $w$ and $w+1$, $z_{h,w}=0$ otherwise. "
   ]
  },
  {
   "cell_type": "markdown",
   "metadata": {},
   "source": [
    "Adjust the model developed in part 1. by incorporating the game pattern constraints and save the model as “nfl 2a.py”. \n",
    "\n",
    "#### -What are the implications of the game pattern constraints? \n",
    "\n",
    "If $y_{h,w}$ and $z_{h,w}$ equals to 1, it means the home team $h$ played two consecutive games at home or away. \n"
   ]
  },
  {
   "cell_type": "markdown",
   "metadata": {},
   "source": [
    "5. No team play no more than two consecutive games at home. "
   ]
  },
  {
   "cell_type": "markdown",
   "metadata": {},
   "source": [
    "$\\sum_{w}y_{h,w}<=1$"
   ]
  },
  {
   "cell_type": "markdown",
   "metadata": {},
   "source": [
    "$\\sum_{a}[x_{h,a,w}+x_{h,a,w+1}]<=1+y_{h,w}$"
   ]
  },
  {
   "cell_type": "code",
   "execution_count": null,
   "metadata": {},
   "outputs": [],
   "source": [
    "con5a=m1.addConstrs(sum(y[h,w] for w in range(weeks)) <= 1 \n",
    "                   for h in range(home))"
   ]
  },
  {
   "cell_type": "code",
   "execution_count": null,
   "metadata": {},
   "outputs": [],
   "source": [
    "con5b=m1.addConstrs(sum(x[h,a,w] + x[h,a,w+1] for a in range(away)) <= 1 + y[h,w] \n",
    "               for h in range(home) for w in range(weeks-1))"
   ]
  },
  {
   "cell_type": "markdown",
   "metadata": {},
   "source": [
    "6. No team play no more than two consecutive games away."
   ]
  },
  {
   "cell_type": "markdown",
   "metadata": {},
   "source": [
    "$\\sum_{w}z_{h,w}<=1$"
   ]
  },
  {
   "cell_type": "markdown",
   "metadata": {},
   "source": [
    "$\\sum_{a}[x_{h,a,w}+x_{h,a,w+1}]<=1+z_{h,w}$"
   ]
  },
  {
   "cell_type": "code",
   "execution_count": null,
   "metadata": {},
   "outputs": [],
   "source": [
    "con6a=m1.addConstrs(sum(z[h,w] for w in range(weeks)) <= 1 \n",
    "                   for h in range(home))"
   ]
  },
  {
   "cell_type": "code",
   "execution_count": null,
   "metadata": {},
   "outputs": [],
   "source": [
    "con6b=m1.addConstrs(sum(x[h,a,w] + x[h,a,w+1] for a in range(away)) <= 1 + z[h,w] \n",
    "               for h in range(home) for w in range(weeks-1))"
   ]
  },
  {
   "cell_type": "markdown",
   "metadata": {},
   "source": [
    "- What happened to the minimum total distance travelled by all teams and the optimal schedule for Cleveland Browns?"
   ]
  },
  {
   "cell_type": "markdown",
   "metadata": {},
   "source": []
  },
  {
   "cell_type": "markdown",
   "metadata": {},
   "source": [
    "To further reduce the fatigue caused by the competition and travelling, the NFL schedulers asked to incorporate in the schedule a week when there are no games. This one-week long break is also referred as the bye week. Suppose that the schedulers requested the bye week to be assigned on week 9, which means that there are no games at week 9, and that the whole season is extended by a week up to 13 weeks.\n"
   ]
  },
  {
   "cell_type": "markdown",
   "metadata": {},
   "source": [
    "#### -What are the required changes for the mathematical formulation to incorporate also the bye week constraint?"
   ]
  },
  {
   "cell_type": "markdown",
   "metadata": {},
   "source": [
    "1. The total number of weeks is now add up to 13\n",
    "2. For week 9, there is no game happen"
   ]
  },
  {
   "cell_type": "markdown",
   "metadata": {},
   "source": [
    "$x_{h,a,w}+x_{a,h,w}=0$ when $w$ = 9"
   ]
  },
  {
   "cell_type": "code",
   "execution_count": null,
   "metadata": {},
   "outputs": [],
   "source": []
  },
  {
   "cell_type": "markdown",
   "metadata": {},
   "source": [
    "Adjust the model “nfl 2a.py” by incorporating the bye week constraint and save the model as “nfl 2b.py”. \n",
    "\n",
    "#### -What are the consequences for the minimum total distance travelled by all teams and the optimal schedule for Cleveland Browns?"
   ]
  },
  {
   "cell_type": "code",
   "execution_count": null,
   "metadata": {},
   "outputs": [],
   "source": []
  },
  {
   "cell_type": "markdown",
   "metadata": {},
   "source": [
    "#### -Would you recommend adding the game pattern and bye week constraints?"
   ]
  },
  {
   "cell_type": "code",
   "execution_count": null,
   "metadata": {},
   "outputs": [],
   "source": []
  },
  {
   "cell_type": "code",
   "execution_count": null,
   "metadata": {},
   "outputs": [],
   "source": [
    "con=m1.addConstrs(sum(x[h,a,w] + x[a,h,w] for h in range(home) \n",
    "                  for a in range(away)) == 0 if w == 9) "
   ]
  },
  {
   "cell_type": "code",
   "execution_count": null,
   "metadata": {},
   "outputs": [],
   "source": []
  },
  {
   "cell_type": "markdown",
   "metadata": {},
   "source": [
    "# 3. Fairness constraints"
   ]
  },
  {
   "cell_type": "markdown",
   "metadata": {},
   "source": [
    "To judge the fairness of the schedule, in terms of travelled distance, the NFL schedulers suggested to assess the total distances that each team travel during the season."
   ]
  },
  {
   "cell_type": "markdown",
   "metadata": {},
   "source": [
    "Use the model “nfl 2b.py”, to evaluate the total distances that each team travels. \n",
    "\n",
    "- Which team travels the most and which team travels the least? \n",
    "\n",
    "- What is the difference in the distances of the teams that travel the most and the least?"
   ]
  },
  {
   "cell_type": "code",
   "execution_count": null,
   "metadata": {},
   "outputs": [],
   "source": [
    "travel_distance = pd.DataFrame(columns = [\"Home\", \"Away\", \"Week\", \"Distance\"])\n",
    "travel_distance = travle_distance.append({\"Home\": home, \"Away\", \"Week\", \"Distance\"})"
   ]
  },
  {
   "cell_type": "code",
   "execution_count": null,
   "metadata": {},
   "outputs": [],
   "source": []
  },
  {
   "cell_type": "code",
   "execution_count": null,
   "metadata": {},
   "outputs": [],
   "source": []
  }
 ],
 "metadata": {
  "kernelspec": {
   "display_name": "Python 3",
   "language": "python",
   "name": "python3"
  },
  "language_info": {
   "codemirror_mode": {
    "name": "ipython",
    "version": 3
   },
   "file_extension": ".py",
   "mimetype": "text/x-python",
   "name": "python",
   "nbconvert_exporter": "python",
   "pygments_lexer": "ipython3",
   "version": "3.7.3"
  }
 },
 "nbformat": 4,
 "nbformat_minor": 4
}
