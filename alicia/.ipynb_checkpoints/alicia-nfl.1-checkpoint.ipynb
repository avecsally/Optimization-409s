{
 "cells": [
  {
   "cell_type": "markdown",
   "metadata": {},
   "source": [
    "## The plain vanilla schedule"
   ]
  },
  {
   "cell_type": "code",
   "execution_count": 1,
   "metadata": {},
   "outputs": [],
   "source": [
    "import gurobipy as gp\n",
    "from gurobipy import GRB\n",
    "from gurobipy import *\n",
    "import pandas as pd\n",
    "import numpy as np"
   ]
  },
  {
   "cell_type": "code",
   "execution_count": 2,
   "metadata": {},
   "outputs": [],
   "source": [
    "Team_list={\n",
    "0:\"Atlanta Falcons\",1:\"Carolina Panthers\",2:\"Chicago Bears\",3:\"Detroit Lions\",\n",
    "4:\"Green Bay Packers\",5:\"Minnesota Vikings\",6:\"New Orleans Saints\",7:\"New York Giants\",\n",
    "8:\"Philadelpia Eagles\",9:\"Tampa Bay Buccaneers\",10:\"Washington Football Team\",11:\"Baltimore Ravens\",\n",
    "12:\"Buffalo Bills\",13:\"Cincinnati Bengals\",14:\"Cleveland Browns\",15:\"Houston Texans\",\n",
    "16:\"Indianapolis Colts\",17:\"Jacksonville Jaguars\",18:\"Miami Dolphins\",19:\"New England Patroits\",\n",
    "20:\"New York Jets\",21:\"Pittsburgh Steelers\",22:\"Tennessee Titans\",23:\"Dalls Cowboys\"}"
   ]
  },
  {
   "cell_type": "code",
   "execution_count": 3,
   "metadata": {},
   "outputs": [],
   "source": [
    "W=set(list(range(0,12))) #set of weeks, total of 12 weeks\n",
    "T=set(list(range(0,24))) #set of teams all, total of 24 teams\n",
    " #set of conference\n",
    "D1=set(list(range(0,12)))  #set of AFC teams\n",
    "D2=set(list(range(12,24))) #set of NFC teams\n",
    "\n",
    "#read the distance file\n",
    "E=pd.read_csv(\"distance.csv\",index_col=0)"
   ]
  },
  {
   "cell_type": "code",
   "execution_count": 4,
   "metadata": {},
   "outputs": [
    {
     "name": "stdout",
     "output_type": "stream",
     "text": [
      "Using license file C:\\Users\\Q_Ali\\gurobi.lic\n",
      "Academic license - for non-commercial use only\n"
     ]
    }
   ],
   "source": [
    "# Create an empty model\n",
    "m1= gp.Model(name=\"NFL1\")"
   ]
  },
  {
   "cell_type": "markdown",
   "metadata": {},
   "source": [
    "#### ADD DECISION VARIABLES "
   ]
  },
  {
   "cell_type": "markdown",
   "metadata": {},
   "source": [
    "X_i_j_k = 1, if team i plays at home against team j at week k\n",
    "<br>\n",
    "X_i_j_k = 0, otherwise"
   ]
  },
  {
   "cell_type": "code",
   "execution_count": 5,
   "metadata": {},
   "outputs": [],
   "source": [
    "#if team i plays at home against team j at week k\n",
    "x = m1.addVars(T, T, W, vtype = GRB.BINARY, name = \"x\")"
   ]
  },
  {
   "cell_type": "markdown",
   "metadata": {},
   "source": [
    "#### Add Objective function"
   ]
  },
  {
   "cell_type": "code",
   "execution_count": 6,
   "metadata": {},
   "outputs": [],
   "source": [
    "# ADD OBJECTIVE FUNCTION\n",
    "# Objective is to minimize the total travel distance of all teams\n",
    "obj = sum(E.iloc[i,j]*x[i,j,k] for i in T for j in T for k in W)*2"
   ]
  },
  {
   "cell_type": "markdown",
   "metadata": {},
   "source": [
    "#### ADD CONSTRAINTS HERE"
   ]
  },
  {
   "cell_type": "code",
   "execution_count": 7,
   "metadata": {},
   "outputs": [],
   "source": [
    "#The season was limited to 12 weeks.\n",
    "con1 = m1.addConstrs(sum(x[i,j,k] + x[j,i,k] for k in W for i in T) == 12 \n",
    "                     for j in T)"
   ]
  },
  {
   "cell_type": "code",
   "execution_count": 8,
   "metadata": {},
   "outputs": [],
   "source": [
    "#each team would play once per week\n",
    "con2 = m1.addConstrs(sum(x[i,j,k] + x[j,i,k] for i in T) == 1 \n",
    "                    for j in T for k in W)"
   ]
  },
  {
   "cell_type": "code",
   "execution_count": 9,
   "metadata": {},
   "outputs": [],
   "source": [
    "#add constraints that all 12 games that a team played would need to be against a different opponent \n",
    "con3 = m1.addConstrs(sum(x[i,j,k] + x[j,i,k] for k in W) <= 1\n",
    "                    for i in T for j in T)"
   ]
  },
  {
   "cell_type": "code",
   "execution_count": 10,
   "metadata": {},
   "outputs": [],
   "source": [
    "#add constraints that each team would play at most 6 home games\n",
    "con4 = m1.addConstrs(sum(x[i,j,k] for i in T for k in W) <= 6 for j in T)"
   ]
  },
  {
   "cell_type": "code",
   "execution_count": 11,
   "metadata": {},
   "outputs": [],
   "source": [
    "#add constraints that no team can plays itself\n",
    "con = m1.addConstrs((x[i,i,k] == 0 for i in T for k in W))"
   ]
  },
  {
   "cell_type": "code",
   "execution_count": null,
   "metadata": {},
   "outputs": [],
   "source": []
  },
  {
   "cell_type": "markdown",
   "metadata": {},
   "source": [
    "#### Optimization "
   ]
  },
  {
   "cell_type": "code",
   "execution_count": null,
   "metadata": {},
   "outputs": [],
   "source": []
  },
  {
   "cell_type": "code",
   "execution_count": 12,
   "metadata": {},
   "outputs": [
    {
     "name": "stdout",
     "output_type": "stream",
     "text": [
      "Gurobi Optimizer version 9.0.3 build v9.0.3rc0 (win64)\n",
      "Optimize a model with 1200 rows, 6912 columns and 47808 nonzeros\n",
      "Model fingerprint: 0x9de9a4c9\n",
      "Variable types: 0 continuous, 6912 integer (6912 binary)\n",
      "Coefficient statistics:\n",
      "  Matrix range     [1e+00, 2e+00]\n",
      "  Objective range  [7e+01, 4e+03]\n",
      "  Bounds range     [1e+00, 1e+00]\n",
      "  RHS range        [1e+00, 1e+01]\n",
      "Presolve removed 612 rows and 288 columns\n",
      "Presolve time: 0.04s\n",
      "Presolved: 588 rows, 6624 columns, 26496 nonzeros\n",
      "Variable types: 0 continuous, 6624 integer (6624 binary)\n",
      "\n",
      "Root relaxation: objective 1.659080e+05, 3689 iterations, 0.22 seconds\n",
      "\n",
      "    Nodes    |    Current Node    |     Objective Bounds      |     Work\n",
      " Expl Unexpl |  Obj  Depth IntInf | Incumbent    BestBd   Gap | It/Node Time\n",
      "\n",
      "     0     0 165908.000    0  164          - 165908.000      -     -    1s\n",
      "H    0     0                    169666.00000 165908.000  2.21%     -    1s\n",
      "H    0     0                    165908.00000 165908.000  0.00%     -    1s\n",
      "     0     0 165908.000    0  164 165908.000 165908.000  0.00%     -    1s\n",
      "\n",
      "Explored 1 nodes (21084 simplex iterations) in 1.35 seconds\n",
      "Thread count was 8 (of 8 available processors)\n",
      "\n",
      "Solution count 2: 165908 169666 \n",
      "\n",
      "Optimal solution found (tolerance 1.00e-04)\n",
      "Best objective 1.659080000000e+05, best bound 1.659080000000e+05, gap 0.0000%\n"
     ]
    }
   ],
   "source": [
    "m1.setObjective(obj, GRB.MINIMIZE)\n",
    "m1.optimize()"
   ]
  },
  {
   "cell_type": "markdown",
   "metadata": {},
   "source": [
    "#### print the total distance travelled by all teams"
   ]
  },
  {
   "cell_type": "code",
   "execution_count": 13,
   "metadata": {},
   "outputs": [
    {
     "name": "stdout",
     "output_type": "stream",
     "text": [
      "\n",
      "Value of objective function: 165908\n"
     ]
    }
   ],
   "source": [
    "print('\\nValue of objective function: %g' % m1.objVal)"
   ]
  },
  {
   "cell_type": "code",
   "execution_count": 14,
   "metadata": {},
   "outputs": [
    {
     "name": "stdout",
     "output_type": "stream",
     "text": [
      "\n",
      "Total distance: 165908.0\n",
      "\n",
      "\n",
      "Decision variables:\n",
      "x[0,5,8] : 2226\n",
      "x[0,9,4] : 912\n",
      "x[0,13,3] : 922\n",
      "x[0,17,6] : 692\n",
      "x[0,22,5] : 500\n",
      "x[0,23,0] : 1586\n",
      "x[1,0,11] : 490\n",
      "x[1,6,6] : 1430\n",
      "x[1,8,7] : 1074\n",
      "x[1,17,4] : 766\n",
      "x[1,19,1] : 1648\n",
      "x[1,20,9] : 1250\n",
      "x[2,3,9] : 568\n",
      "x[2,12,6] : 1056\n",
      "x[2,14,4] : 688\n",
      "x[2,15,11] : 2164\n",
      "x[2,21,3] : 920\n",
      "x[2,23,8] : 1934\n",
      "x[3,5,7] : 1382\n",
      "x[3,7,6] : 1226\n",
      "x[3,13,8] : 526\n",
      "x[3,14,1] : 340\n",
      "x[3,16,0] : 574\n",
      "x[3,19,3] : 1412\n",
      "x[4,2,0] : 414\n",
      "x[4,3,4] : 978\n",
      "x[4,6,8] : 2260\n",
      "x[4,15,9] : 2574\n",
      "x[4,16,5] : 788\n",
      "x[4,19,10] : 2378\n",
      "x[5,2,5] : 818\n",
      "x[5,4,1] : 558\n",
      "x[5,13,9] : 1408\n",
      "x[5,14,6] : 1504\n",
      "x[5,15,10] : 2352\n",
      "x[5,23,3] : 1880\n",
      "x[6,0,9] : 940\n",
      "x[6,2,7] : 1850\n",
      "x[6,5,0] : 2398\n",
      "x[6,15,2] : 696\n",
      "x[6,22,10] : 1064\n",
      "x[6,23,5] : 1010\n",
      "x[7,1,3] : 1250\n",
      "x[7,8,8] : 192\n",
      "x[7,11,4] : 378\n",
      "x[7,12,0] : 710\n",
      "x[7,18,1] : 2536\n",
      "x[7,20,11] : 0\n",
      "x[8,3,11] : 1166\n",
      "x[8,10,3] : 268\n",
      "x[8,11,5] : 202\n",
      "x[8,12,10] : 724\n",
      "x[8,17,2] : 1692\n",
      "x[8,18,0] : 2358\n",
      "x[9,1,8] : 1160\n",
      "x[9,6,11] : 1314\n",
      "x[9,8,1] : 2084\n",
      "x[9,10,6] : 1822\n",
      "x[9,11,2] : 1882\n",
      "x[9,20,5] : 2258\n",
      "x[10,0,7] : 1292\n",
      "x[10,1,10] : 814\n",
      "x[10,7,9] : 446\n",
      "x[10,18,8] : 2096\n",
      "x[10,19,2] : 844\n",
      "x[10,20,0] : 444\n",
      "x[11,1,0] : 874\n",
      "x[11,10,1] : 68\n",
      "x[11,12,7] : 696\n",
      "x[11,17,8] : 1502\n",
      "x[11,18,3] : 2170\n",
      "x[11,21,6] : 494\n",
      "x[12,3,5] : 540\n",
      "x[12,4,11] : 1468\n",
      "x[12,5,2] : 1870\n",
      "x[12,10,4] : 776\n",
      "x[12,14,8] : 370\n",
      "x[12,19,9] : 922\n",
      "x[13,2,2] : 594\n",
      "x[13,4,7] : 1014\n",
      "x[13,14,5] : 500\n",
      "x[13,16,11] : 224\n",
      "x[13,21,0] : 576\n",
      "x[13,22,4] : 546\n",
      "x[14,4,2] : 1100\n",
      "x[14,7,10] : 912\n",
      "x[14,11,9] : 748\n",
      "x[14,19,0] : 1278\n",
      "x[14,20,7] : 920\n",
      "x[14,21,11] : 266\n",
      "x[15,0,1] : 1586\n",
      "x[15,1,5] : 2076\n",
      "x[15,9,3] : 1962\n",
      "x[15,16,7] : 2028\n",
      "x[15,18,6] : 2350\n",
      "x[15,22,8] : 1558\n",
      "x[16,0,2] : 1068\n",
      "x[16,2,10] : 368\n",
      "x[16,5,4] : 1182\n",
      "x[16,6,1] : 1638\n",
      "x[16,14,3] : 630\n",
      "x[16,23,9] : 1800\n",
      "x[17,6,3] : 1092\n",
      "x[17,7,7] : 1868\n",
      "x[17,9,10] : 398\n",
      "x[17,10,11] : 1430\n",
      "x[17,15,0] : 1740\n",
      "x[17,18,5] : 666\n",
      "x[18,0,10] : 1300\n",
      "x[18,1,2] : 1434\n",
      "x[18,6,4] : 1702\n",
      "x[18,9,9] : 534\n",
      "x[18,22,7] : 1798\n",
      "x[18,23,11] : 2594\n",
      "x[19,7,5] : 408\n",
      "x[19,8,4] : 590\n",
      "x[19,11,11] : 784\n",
      "x[19,13,6] : 1680\n",
      "x[19,20,8] : 432\n",
      "x[19,21,7] : 1142\n",
      "x[20,3,2] : 1226\n",
      "x[20,8,6] : 192\n",
      "x[20,11,10] : 386\n",
      "x[20,12,3] : 718\n",
      "x[20,13,1] : 1282\n",
      "x[20,21,4] : 742\n",
      "x[21,3,10] : 572\n",
      "x[21,7,2] : 728\n",
      "x[21,8,9] : 610\n",
      "x[21,10,5] : 504\n",
      "x[21,12,1] : 422\n",
      "x[21,16,8] : 718\n",
      "x[22,2,1] : 944\n",
      "x[22,4,3] : 1366\n",
      "x[22,5,11] : 1758\n",
      "x[22,9,0] : 1410\n",
      "x[22,16,6] : 576\n",
      "x[22,17,9] : 1190\n",
      "x[23,4,6] : 2346\n",
      "x[23,9,7] : 2206\n",
      "x[23,13,10] : 1868\n",
      "x[23,15,4] : 478\n",
      "x[23,17,1] : 1984\n",
      "x[23,22,2] : 1328\n"
     ]
    }
   ],
   "source": [
    "# ADD PRINTING HERE:\n",
    "# print the total distance travelled by all teams\n",
    "\n",
    "if m1.status == GRB.OPTIMAL:\n",
    "    # Print solution\n",
    "    print(\"\\nTotal distance: {}\\n\". format(m1.ObjVal))    \n",
    "\n",
    "# print the optimal schedule for the decision variables\n",
    "\n",
    "print('\\nDecision variables:')\n",
    "for v in m1.getVars():\n",
    "    if v.x== 1:\n",
    "        s=(\"%s : %g\" % (v.varName, v.obj))\n",
    "        print(s)"
   ]
  },
  {
   "cell_type": "code",
   "execution_count": 15,
   "metadata": {},
   "outputs": [],
   "source": [
    "# print the optimal schedule for Cleveland Browns, 14"
   ]
  },
  {
   "cell_type": "markdown",
   "metadata": {},
   "source": [
    "x[2,14,4] : 688\n",
    "x[3,14,1] : 340\n",
    "x[5,14,6] : 1504\n",
    "x[12,14,8] : 370\n",
    "x[13,14,5] : 500\n",
    "x[16,14,3] : 630\n",
    "x[14,4,2] : 1100\n",
    "x[14,7,10] : 912\n",
    "x[14,11,9] : 748\n",
    "x[14,19,0] : 1278\n",
    "x[14,20,7] : 920\n",
    "x[14,21,11] : 266"
   ]
  },
  {
   "cell_type": "code",
   "execution_count": 16,
   "metadata": {},
   "outputs": [],
   "source": [
    "# Q3: print minimum distance that each team travels"
   ]
  },
  {
   "cell_type": "code",
   "execution_count": 17,
   "metadata": {},
   "outputs": [
    {
     "name": "stdout",
     "output_type": "stream",
     "text": [
      "\n",
      "Value of objective function: 165908\n"
     ]
    }
   ],
   "source": [
    "print('\\nValue of objective function: %g' % m1.objVal)"
   ]
  },
  {
   "cell_type": "code",
   "execution_count": 18,
   "metadata": {},
   "outputs": [],
   "source": [
    "# Q4: How does the home and away game pattern look like for the Cleveland Browns?"
   ]
  },
  {
   "cell_type": "markdown",
   "metadata": {},
   "source": [
    "Cleveland Browns hosts 6 home games and travel 6 times for away games. Its total travel distance for away games is 5224 miles and its opponents' travel distance to Cleveland Browns home game is 4032 miles."
   ]
  }
 ],
 "metadata": {
  "kernelspec": {
   "display_name": "Python 3",
   "language": "python",
   "name": "python3"
  },
  "language_info": {
   "codemirror_mode": {
    "name": "ipython",
    "version": 3
   },
   "file_extension": ".py",
   "mimetype": "text/x-python",
   "name": "python",
   "nbconvert_exporter": "python",
   "pygments_lexer": "ipython3",
   "version": "3.7.3"
  }
 },
 "nbformat": 4,
 "nbformat_minor": 2
}
