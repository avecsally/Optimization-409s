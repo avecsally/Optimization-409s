{
 "cells": [
  {
   "cell_type": "code",
   "execution_count": 1,
   "metadata": {},
   "outputs": [],
   "source": [
    "import gurobipy as gp\n",
    "from gurobipy import GRB\n",
    "from gurobipy import *\n",
    "import pandas as pd\n",
    "import numpy as np"
   ]
  },
  {
   "cell_type": "code",
   "execution_count": 2,
   "metadata": {},
   "outputs": [],
   "source": [
    "Team_list={\n",
    "0:\"Atlanta Falcons\",1:\"Carolina Panthers\",2:\"Chicago Bears\",3:\"Detroit Lions\",\n",
    "4:\"Green Bay Packers\",5:\"Minnesota Vikings\",6:\"New Orleans Saints\",7:\"New York Giants\",\n",
    "8:\"Philadelpia Eagles\",9:\"Tampa Bay Buccaneers\",10:\"Washington Football Team\",11:\"Baltimore Ravens\",\n",
    "12:\"Buffalo Bills\",13:\"Cincinnati Bengals\",14:\"Cleveland Browns\",15:\"Houston Texans\",\n",
    "16:\"Indianapolis Colts\",17:\"Jacksonville Jaguars\",18:\"Miami Dolphins\",19:\"New England Patroits\",\n",
    "20:\"New York Jets\",21:\"Pittsburgh Steelers\",22:\"Tennessee Titans\",23:\"Dalls Cowboys\"}"
   ]
  },
  {
   "cell_type": "code",
   "execution_count": 3,
   "metadata": {},
   "outputs": [],
   "source": [
    "W=set(list(range(0,12))) #set of weeks, total of 12 weeks\n",
    "T=set(list(range(0,24))) #set of teams all, total of 24 teams\n",
    " #set of conference\n",
    "D1=set(list(range(0,12)))  #set of AFC teams\n",
    "D2=set(list(range(12,24))) #set of NFC teams\n",
    "\n",
    "#read the distance file\n",
    "E=pd.read_csv(\"distance.csv\",index_col=0)"
   ]
  },
  {
   "cell_type": "code",
   "execution_count": 4,
   "metadata": {},
   "outputs": [
    {
     "name": "stdout",
     "output_type": "stream",
     "text": [
      "Using license file /Users/zhangmaojn/gurobi.lic\n",
      "Academic license - for non-commercial use only\n"
     ]
    }
   ],
   "source": [
    "# Create an empty model\n",
    "m1= gp.Model(name=\"NFL1\")"
   ]
  },
  {
   "cell_type": "markdown",
   "metadata": {},
   "source": [
    "### Decision Variable & Objectives"
   ]
  },
  {
   "cell_type": "code",
   "execution_count": 5,
   "metadata": {},
   "outputs": [],
   "source": [
    "home=len(E.columns)\n",
    "away=len(E.columns)\n",
    "weeks=12\n",
    "#if team h plays at home against team j at week k\n",
    "x = m1.addVars(home, away, weeks, vtype = GRB.BINARY, name = \"x\")"
   ]
  },
  {
   "cell_type": "code",
   "execution_count": 6,
   "metadata": {},
   "outputs": [],
   "source": [
    "#if team h plays at home in week k and k+1\n",
    "y = m1.addVars(home, weeks, vtype = GRB.BINARY, name = \"y\")"
   ]
  },
  {
   "cell_type": "code",
   "execution_count": 7,
   "metadata": {},
   "outputs": [],
   "source": [
    "#if team h plays at away in week k and k+1\n",
    "z = m1.addVars(home, weeks, vtype = GRB.BINARY, name = \"z\")"
   ]
  },
  {
   "cell_type": "code",
   "execution_count": 24,
   "metadata": {},
   "outputs": [],
   "source": [
    "# Objective is to minimize the total distance of all teams\n",
    "#obj = sum(sum(x[w,h,a]*2*E.iloc[h,a] for h in range(home) for a in range(away)) for w in range(weeks))\n",
    "obj = sum(sum(x[h,a,w]*2*E.iloc[h,a] for w in range(weeks)) for h in range(home) for a in range(away))"
   ]
  },
  {
   "cell_type": "markdown",
   "metadata": {},
   "source": [
    "### Constraints"
   ]
  },
  {
   "cell_type": "code",
   "execution_count": 25,
   "metadata": {},
   "outputs": [],
   "source": [
    "#The season was limited to 12 weeks.\n",
    "con1 = m1.addConstrs(sum(x[h,a,w] + x[a,h,w] for w in W for h in T) == 12 \n",
    "                     for a in T)"
   ]
  },
  {
   "cell_type": "code",
   "execution_count": 26,
   "metadata": {},
   "outputs": [],
   "source": [
    "#each team would play once per week\n",
    "con2 = m1.addConstrs(sum(x[h,a,w] + x[a,h,w] for h in T) == 1 \n",
    "                    for a in T for w in W)"
   ]
  },
  {
   "cell_type": "code",
   "execution_count": 27,
   "metadata": {},
   "outputs": [],
   "source": [
    "#add constraints that all 12 games that a team played would need to be against a different opponent \n",
    "con3 = m1.addConstrs(sum(x[h,a,w] + x[a,h,w] for w in W) <= 1\n",
    "                    for h in T for a in T)"
   ]
  },
  {
   "cell_type": "code",
   "execution_count": 28,
   "metadata": {},
   "outputs": [],
   "source": [
    "#add constraints that each team would play at most 6 home games\n",
    "con4 = m1.addConstrs(sum(x[h,a,w] for h in T for w in W) <= 6 for a in T)"
   ]
  },
  {
   "cell_type": "code",
   "execution_count": 29,
   "metadata": {},
   "outputs": [],
   "source": [
    "#add constraints that no team can plays itself\n",
    "con0 = m1.addConstrs((x[h,h,w] == 0 for h in T for w in W))"
   ]
  },
  {
   "cell_type": "code",
   "execution_count": 14,
   "metadata": {},
   "outputs": [],
   "source": [
    "#add constraints that no team would play more than 2 consecutive games in home\n",
    "#con5 = m1.addConstrs(sum(y[h,w] for w in W) <= 1 for h in T)"
   ]
  },
  {
   "cell_type": "code",
   "execution_count": 15,
   "metadata": {},
   "outputs": [],
   "source": [
    "#Implication of constraint 5\n",
    "#con5_i = m1.addConstrs(sum(x[h,a,w] + x[h,a,w+1] for a in T) <= 1 + y[h,w] for w in range(W-1) for h in T)"
   ]
  },
  {
   "cell_type": "code",
   "execution_count": 16,
   "metadata": {},
   "outputs": [],
   "source": [
    "#add constraints that no team would play more than 2 consecutive games in away\n",
    "#con6 = m1.addConstrs(sum(z[h,w] for w in range(weeks)) <= 1 for h in range(home))"
   ]
  },
  {
   "cell_type": "code",
   "execution_count": 17,
   "metadata": {},
   "outputs": [],
   "source": [
    "#Implication of constraint 6\n",
    "#con6_i = m1.addConstrs(sum(x[h,a,w] + x[h,a,w+1] for a in range(away)) <= 1 + z[h,w] for w in range(weeks-1) for h in range(home))"
   ]
  },
  {
   "cell_type": "markdown",
   "metadata": {},
   "source": [
    "### Optimize"
   ]
  },
  {
   "cell_type": "code",
   "execution_count": 30,
   "metadata": {},
   "outputs": [
    {
     "name": "stdout",
     "output_type": "stream",
     "text": [
      "Gurobi Optimizer version 9.0.3 build v9.0.3rc0 (mac64)\n",
      "Optimize a model with 3552 rows, 7488 columns and 122640 nonzeros\n",
      "Model fingerprint: 0xc43529ae\n",
      "Variable types: 0 continuous, 7488 integer (7488 binary)\n",
      "Coefficient statistics:\n",
      "  Matrix range     [1e+00, 2e+00]\n",
      "  Objective range  [7e+01, 4e+03]\n",
      "  Bounds range     [1e+00, 1e+00]\n",
      "  RHS range        [1e+00, 1e+01]\n",
      "Presolve removed 0 rows and 48 columns\n",
      "Presolve time: 0.01s\n",
      "\n",
      "Explored 0 nodes (0 simplex iterations) in 0.16 seconds\n",
      "Thread count was 1 (of 4 available processors)\n",
      "\n",
      "Solution count 0\n",
      "\n",
      "Model is infeasible\n",
      "Best objective -, best bound -, gap -\n"
     ]
    }
   ],
   "source": [
    "m1.setObjective(obj, GRB.MINIMIZE)\n",
    "m1.optimize()"
   ]
  },
  {
   "cell_type": "code",
   "execution_count": null,
   "metadata": {},
   "outputs": [],
   "source": []
  }
 ],
 "metadata": {
  "kernelspec": {
   "display_name": "Python 3",
   "language": "python",
   "name": "python3"
  },
  "language_info": {
   "codemirror_mode": {
    "name": "ipython",
    "version": 3
   },
   "file_extension": ".py",
   "mimetype": "text/x-python",
   "name": "python",
   "nbconvert_exporter": "python",
   "pygments_lexer": "ipython3",
   "version": "3.7.3"
  }
 },
 "nbformat": 4,
 "nbformat_minor": 4
}
