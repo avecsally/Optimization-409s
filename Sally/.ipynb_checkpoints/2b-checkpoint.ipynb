{
 "cells": [
  {
   "cell_type": "code",
   "execution_count": 1,
   "metadata": {},
   "outputs": [],
   "source": [
    "import gurobipy as gp\n",
    "from gurobipy import GRB\n",
    "from gurobipy import *\n",
    "import pandas as pd\n",
    "import numpy as np"
   ]
  },
  {
   "cell_type": "code",
   "execution_count": 2,
   "metadata": {},
   "outputs": [],
   "source": [
    "Team_list={\n",
    "0:\"Atlanta Falcons\",1:\"Carolina Panthers\",2:\"Chicago Bears\",3:\"Detroit Lions\",\n",
    "4:\"Green Bay Packers\",5:\"Minnesota Vikings\",6:\"New Orleans Saints\",7:\"New York Giants\",\n",
    "8:\"Philadelpia Eagles\",9:\"Tampa Bay Buccaneers\",10:\"Washington Football Team\",11:\"Baltimore Ravens\",\n",
    "12:\"Buffalo Bills\",13:\"Cincinnati Bengals\",14:\"Cleveland Browns\",15:\"Houston Texans\",\n",
    "16:\"Indianapolis Colts\",17:\"Jacksonville Jaguars\",18:\"Miami Dolphins\",19:\"New England Patroits\",\n",
    "20:\"New York Jets\",21:\"Pittsburgh Steelers\",22:\"Tennessee Titans\",23:\"Dalls Cowboys\"}"
   ]
  },
  {
   "cell_type": "code",
   "execution_count": 3,
   "metadata": {},
   "outputs": [],
   "source": [
    "W=set(list(range(0,12))) #set of weeks, total of 12 weeks\n",
    "T=set(list(range(0,24))) #set of teams all, total of 24 teams\n",
    " #set of conference\n",
    "D1=set(list(range(0,12)))  #set of AFC teams\n",
    "D2=set(list(range(12,24))) #set of NFC teams\n",
    "\n",
    "#read the distance file\n",
    "E=pd.read_csv(\"distance.csv\",index_col=0)"
   ]
  },
  {
   "cell_type": "code",
   "execution_count": 4,
   "metadata": {},
   "outputs": [
    {
     "name": "stdout",
     "output_type": "stream",
     "text": [
      "Using license file /Users/zhangmaojn/gurobi.lic\n",
      "Academic license - for non-commercial use only\n"
     ]
    }
   ],
   "source": [
    "# Create an empty model\n",
    "m1= gp.Model(name=\"NFL1\")"
   ]
  },
  {
   "cell_type": "markdown",
   "metadata": {},
   "source": [
    "### Decision Variable & Objectives"
   ]
  },
  {
   "cell_type": "code",
   "execution_count": 5,
   "metadata": {},
   "outputs": [],
   "source": [
    "home=len(E.columns)\n",
    "away=len(E.columns)\n",
    "weeks=12\n",
    "#if team h plays at home against team j at week k\n",
    "x = m1.addVars(home, away, weeks, vtype = GRB.BINARY, name = \"x\")"
   ]
  },
  {
   "cell_type": "code",
   "execution_count": 6,
   "metadata": {},
   "outputs": [],
   "source": [
    "#if team h plays at home in week k and k+1\n",
    "y = m1.addVars(home, weeks, vtype = GRB.BINARY, name = \"y\")"
   ]
  },
  {
   "cell_type": "code",
   "execution_count": 7,
   "metadata": {},
   "outputs": [],
   "source": [
    "#if team h plays at away in week k and k+1\n",
    "z = m1.addVars(home, weeks, vtype = GRB.BINARY, name = \"z\")"
   ]
  },
  {
   "cell_type": "code",
   "execution_count": 8,
   "metadata": {},
   "outputs": [],
   "source": [
    "# Objective is to minimize the total distance of all teams\n",
    "#obj = sum(sum(x[w,h,a]*2*E.iloc[h,a] for h in range(home) for a in range(away)) for w in range(weeks))\n",
    "obj = sum(sum(x[h,a,w]*2*E.iloc[h,a] for w in range(weeks)) for h in range(home) for a in range(away))"
   ]
  },
  {
   "cell_type": "markdown",
   "metadata": {},
   "source": [
    "### Constraints"
   ]
  },
  {
   "cell_type": "code",
   "execution_count": 9,
   "metadata": {},
   "outputs": [],
   "source": [
    "#The season was limited to 12 weeks.\n",
    "con1 = m1.addConstrs(sum(x[h,a,w] + x[a,h,w] for w in range(weeks) for h in range(home)) == 12 \n",
    "                     for a in range(away))"
   ]
  },
  {
   "cell_type": "code",
   "execution_count": 10,
   "metadata": {},
   "outputs": [],
   "source": [
    "#each team would play once per week\n",
    "con2 = m1.addConstrs(sum(x[h,a,w] + x[a,h,w] for h in range(home)) == 1 \n",
    "                    for a in range(away) for w in range(weeks))"
   ]
  },
  {
   "cell_type": "code",
   "execution_count": 11,
   "metadata": {},
   "outputs": [],
   "source": [
    "#add constraints that all 12 games that a team played would need to be against a different opponent \n",
    "con3 = m1.addConstrs(sum(x[h,a,w] + x[a,h,w] for w in range(weeks)) <= 1\n",
    "                    for h in range(home) for a in range(away))"
   ]
  },
  {
   "cell_type": "code",
   "execution_count": 12,
   "metadata": {},
   "outputs": [],
   "source": [
    "#add constraints that each team would play at most 6 home games\n",
    "con4 = m1.addConstrs(sum(x[h,a,w] for h in range(home) for w in range(weeks)) <= 6 for a in range(away))"
   ]
  },
  {
   "cell_type": "code",
   "execution_count": 13,
   "metadata": {},
   "outputs": [],
   "source": [
    "#add constraints that no team can plays itself\n",
    "con0 = m1.addConstrs((x[h,h,w] == 0 for h in range(home) for w in range(weeks)))"
   ]
  },
  {
   "cell_type": "code",
   "execution_count": 14,
   "metadata": {},
   "outputs": [],
   "source": [
    "#add constraints that no team would play more than 2 consecutive games in home\n",
    "con5 = m1.addConstrs(sum(y[h,w] for w in range(weeks)) <= 1 for h in range(home))"
   ]
  },
  {
   "cell_type": "code",
   "execution_count": 15,
   "metadata": {},
   "outputs": [],
   "source": [
    "#Implication of constraint 5\n",
    "con5_i = m1.addConstrs(sum(x[h,a,w] + x[h,a,w+1] for a in range(away)) <= 1 + y[h,w] for w in range(weeks-1) for h in range(home))"
   ]
  },
  {
   "cell_type": "code",
   "execution_count": 16,
   "metadata": {},
   "outputs": [],
   "source": [
    "#add constraints that no team would play more than 2 consecutive games in away\n",
    "con6 = m1.addConstrs(sum(z[h,w] for w in range(weeks)) <= 1 for h in range(home))"
   ]
  },
  {
   "cell_type": "code",
   "execution_count": 17,
   "metadata": {},
   "outputs": [],
   "source": [
    "#Implication of constraint 6\n",
    "con6_i = m1.addConstrs(sum(x[h,a,w] + x[h,a,w+1] for a in range(away)) <= 1 + z[h,w] for w in range(weeks-1) for h in range(home))"
   ]
  },
  {
   "cell_type": "markdown",
   "metadata": {},
   "source": [
    "### Optimize"
   ]
  },
  {
   "cell_type": "code",
   "execution_count": 18,
   "metadata": {},
   "outputs": [
    {
     "name": "stdout",
     "output_type": "stream",
     "text": [
      "Gurobi Optimizer version 9.0.3 build v9.0.3rc0 (mac64)\n",
      "Optimize a model with 1776 rows, 7488 columns and 74256 nonzeros\n",
      "Model fingerprint: 0xc668125e\n",
      "Variable types: 0 continuous, 7488 integer (7488 binary)\n",
      "Coefficient statistics:\n",
      "  Matrix range     [1e+00, 2e+00]\n",
      "  Objective range  [7e+01, 4e+03]\n",
      "  Bounds range     [1e+00, 1e+00]\n",
      "  RHS range        [1e+00, 1e+01]\n",
      "Presolve removed 612 rows and 336 columns\n",
      "Presolve time: 0.20s\n",
      "Presolved: 1164 rows, 7152 columns, 51840 nonzeros\n",
      "Variable types: 0 continuous, 7152 integer (7152 binary)\n",
      "\n",
      "Root relaxation: objective 1.659080e+05, 5657 iterations, 1.00 seconds\n",
      "\n",
      "    Nodes    |    Current Node    |     Objective Bounds      |     Work\n",
      " Expl Unexpl |  Obj  Depth IntInf | Incumbent    BestBd   Gap | It/Node Time\n",
      "\n",
      "     0     0 165908.000    0  521          - 165908.000      -     -    5s\n",
      "     0     0 165908.000    0  602          - 165908.000      -     -    6s\n",
      "     0     0 165908.000    0  438          - 165908.000      -     -   11s\n",
      "     0     0 165908.000    0  479          - 165908.000      -     -   14s\n",
      "H    0     0                    175442.00000 165908.000  5.43%     -   14s\n",
      "     0     0 165908.000    0  495 175442.000 165908.000  5.43%     -   14s\n",
      "     0     0 165908.000    0  377 175442.000 165908.000  5.43%     -   18s\n",
      "     0     0 165908.000    0  423 175442.000 165908.000  5.43%     -   19s\n",
      "     0     0 165908.000    0  357 175442.000 165908.000  5.43%     -   22s\n",
      "     0     0 165908.000    0  353 175442.000 165908.000  5.43%     -   22s\n",
      "     0     0 165908.000    0  468 175442.000 165908.000  5.43%     -   25s\n",
      "     0     0 165908.000    0  468 175442.000 165908.000  5.43%     -   28s\n",
      "H    0     0                    169124.00000 165908.000  1.90%     -   29s\n",
      "     0     2 165908.000    0  335 169124.000 165908.000  1.90%     -   36s\n",
      "     3     6 165908.000    2  655 169124.000 165908.000  1.90%  3323   40s\n",
      "    11    14 165908.000    4  654 169124.000 165908.000  1.90%  1427   45s\n",
      "    27    78 165908.000    7  662 169124.000 165908.000  1.90%  1019   57s\n",
      "    77   386 165908.000   19  657 169124.000 165908.000  1.90%   660   71s\n",
      "   385   857 165908.000  110  276 169124.000 165908.000  1.90%   372   78s\n",
      "   876  1044 166907.048  292  209 169124.000 165908.000  1.90%   195   83s\n",
      "  1082  1321 166912.286  293  208 169124.000 165908.000  1.90%   165   85s\n",
      "  1398  1323 166570.000  143  457 169124.000 165908.000  1.90%   140   93s\n",
      "  1399  1324 167689.492  252  355 169124.000 165908.000  1.90%   140   96s\n",
      "  1400  1325 166622.000  128  436 169124.000 165908.000  1.90%   140  100s\n",
      "  1401  1325 166348.000  178  214 169124.000 165908.000  1.90%   140  106s\n",
      "H 1401  1258                    167193.99981 165908.000  0.77%   140  109s\n",
      "  1403  1260 165908.000   72  549 167194.000 165908.000  0.77%   140  110s\n",
      "  1405  1261 166044.000  117  163 167194.000 165908.000  0.77%   140  117s\n",
      "  1407  1262 166762.333  265  219 167194.000 165908.000  0.77%   140  122s\n",
      "  1408  1263 165908.000  105  255 167194.000 165908.000  0.77%   139  126s\n",
      "  1410  1264 166572.000  157  315 167194.000 165908.000  0.77%   139  134s\n",
      "  1411  1265 165908.000   63  315 167194.000 165908.000  0.77%   139  136s\n",
      "  1413  1269 165908.000   13  625 167194.000 165908.000  0.77%   305  177s\n",
      "  1415  1271 165908.000   14  656 167194.000 165908.000  0.77%   306  199s\n",
      "  1417  1272 165908.000   14  654 167194.000 165908.000  0.77%   306  207s\n",
      "  1419  1273 165908.000   15  693 167194.000 165908.000  0.77%   307  210s\n",
      "  1421  1275 165908.000   15  659 167194.000 165908.000  0.77%   308  215s\n",
      "  1423  1276 165908.000   16  667 167194.000 165908.000  0.77%   309  222s\n",
      "  1425  1278 165908.000   16  686 167194.000 165908.000  0.77%   310  225s\n",
      "  1431  1283 165908.000   18  675 167194.000 165908.000  0.77%   311  232s\n",
      "  1435  1296 165908.000   19  653 167194.000 165908.000  0.77%   312  243s\n",
      "  1449  1354 165908.000   22  421 167194.000 165908.000  0.77%   359  272s\n",
      "  1512  1764 165908.000   40  615 167194.000 165908.000  0.77%   400  312s\n",
      "  1944  1946 166150.000  148  249 167194.000 165908.000  0.77%   419  325s\n",
      "* 2050  1435             144    165908.00000 165908.000  0.00%   436  325s\n",
      "\n",
      "Cutting planes:\n",
      "  Gomory: 1\n",
      "  Clique: 8\n",
      "  Flow cover: 3\n",
      "  Zero half: 1\n",
      "\n",
      "Explored 2343 nodes (1123819 simplex iterations) in 325.97 seconds\n",
      "Thread count was 4 (of 4 available processors)\n",
      "\n",
      "Solution count 4: 165908 167194 169124 175442 \n",
      "\n",
      "Optimal solution found (tolerance 1.00e-04)\n",
      "Best objective 1.659080000000e+05, best bound 1.659080000000e+05, gap 0.0000%\n"
     ]
    }
   ],
   "source": [
    "m1.setObjective(obj, GRB.MINIMIZE)\n",
    "m1.optimize()"
   ]
  },
  {
   "cell_type": "code",
   "execution_count": null,
   "metadata": {},
   "outputs": [],
   "source": []
  }
 ],
 "metadata": {
  "kernelspec": {
   "display_name": "Python 3",
   "language": "python",
   "name": "python3"
  },
  "language_info": {
   "codemirror_mode": {
    "name": "ipython",
    "version": 3
   },
   "file_extension": ".py",
   "mimetype": "text/x-python",
   "name": "python",
   "nbconvert_exporter": "python",
   "pygments_lexer": "ipython3",
   "version": "3.7.3"
  }
 },
 "nbformat": 4,
 "nbformat_minor": 4
}
