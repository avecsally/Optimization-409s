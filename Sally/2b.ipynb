{
 "cells": [
  {
   "cell_type": "code",
   "execution_count": 163,
   "metadata": {},
   "outputs": [],
   "source": [
    "import gurobipy as gp\n",
    "from gurobipy import GRB\n",
    "from gurobipy import *\n",
    "import pandas as pd\n",
    "import numpy as np"
   ]
  },
  {
   "cell_type": "code",
   "execution_count": 164,
   "metadata": {},
   "outputs": [],
   "source": [
    "Team_list={\n",
    "0:\"Atlanta Falcons\",1:\"Carolina Panthers\",2:\"Chicago Bears\",3:\"Detroit Lions\",\n",
    "4:\"Green Bay Packers\",5:\"Minnesota Vikings\",6:\"New Orleans Saints\",7:\"New York Giants\",\n",
    "8:\"Philadelpia Eagles\",9:\"Tampa Bay Buccaneers\",10:\"Washington Football Team\",11:\"Baltimore Ravens\",\n",
    "12:\"Buffalo Bills\",13:\"Cincinnati Bengals\",14:\"Cleveland Browns\",15:\"Houston Texans\",\n",
    "16:\"Indianapolis Colts\",17:\"Jacksonville Jaguars\",18:\"Miami Dolphins\",19:\"New England Patroits\",\n",
    "20:\"New York Jets\",21:\"Pittsburgh Steelers\",22:\"Tennessee Titans\",23:\"Dalls Cowboys\"}"
   ]
  },
  {
   "cell_type": "code",
   "execution_count": 165,
   "metadata": {},
   "outputs": [],
   "source": [
    "W=set(list(range(0,12))) #set of weeks, total of 12 weeks\n",
    "T=set(list(range(0,24))) #set of teams all, total of 24 teams\n",
    " #set of conference\n",
    "D1=set(list(range(0,12)))  #set of AFC teams\n",
    "D2=set(list(range(12,24))) #set of NFC teams\n",
    "\n",
    "#read the distance file\n",
    "E=pd.read_csv(\"distance.csv\",index_col=0)"
   ]
  },
  {
   "cell_type": "code",
   "execution_count": 166,
   "metadata": {},
   "outputs": [],
   "source": [
    "# Create an empty model\n",
    "m1= gp.Model(name=\"NFL1\")"
   ]
  },
  {
   "cell_type": "code",
   "execution_count": null,
   "metadata": {},
   "outputs": [],
   "source": []
  },
  {
   "cell_type": "code",
   "execution_count": 167,
   "metadata": {},
   "outputs": [],
   "source": [
    "#home=len(E.columns)\n",
    "#away=len(E.columns)\n",
    "weeks=13\n",
    "#if team h plays at home against team j at week k\n",
    "x = m1.addVars(T, T, W, vtype = GRB.BINARY, name = \"x\")"
   ]
  },
  {
   "cell_type": "code",
   "execution_count": 168,
   "metadata": {},
   "outputs": [],
   "source": [
    "# Objective is to minimize the total distance of all teams\n",
    "#obj = sum(sum(x[w,h,a]*2*E.iloc[h,a] for h in range(home) for a in range(away)) for w in range(weeks))\n",
    "obj = sum(sum(x[h,a,w]*2*E.iloc[h,a] for w in W) for h in T for a in T)"
   ]
  },
  {
   "cell_type": "code",
   "execution_count": 169,
   "metadata": {},
   "outputs": [],
   "source": [
    "#obj = sum(E.iloc[h,a]*x[h,a,w] for h in T for a in T for w in W)*2"
   ]
  },
  {
   "cell_type": "code",
   "execution_count": 170,
   "metadata": {},
   "outputs": [],
   "source": [
    "#The season was limited to 12 weeks.\n",
    "con1 = m1.addConstrs(sum(x[h,a,w] + x[a,h,w] for w in W for h in T) == 12 \n",
    "                     for a in T)"
   ]
  },
  {
   "cell_type": "code",
   "execution_count": 171,
   "metadata": {},
   "outputs": [],
   "source": [
    "#each team would play once per week\n",
    "con2 = m1.addConstrs(sum(x[h,a,w] + x[a,h,w] for h in T) == 1 \n",
    "                    for a in T for w in W)"
   ]
  },
  {
   "cell_type": "code",
   "execution_count": 172,
   "metadata": {},
   "outputs": [],
   "source": [
    "#add constraints that all 12 games that a team played would need to be against a different opponent \n",
    "con3 = m1.addConstrs(sum(x[h,a,w] + x[a,h,w] for w in W) <= 1\n",
    "                    for h in T for a in T)"
   ]
  },
  {
   "cell_type": "code",
   "execution_count": 173,
   "metadata": {},
   "outputs": [],
   "source": [
    "#add constraints that each team would play at most 6 home games\n",
    "con4 = m1.addConstrs(sum(x[h,a,w] for h in T for w in W) <= 6 for a in T)"
   ]
  },
  {
   "cell_type": "code",
   "execution_count": 174,
   "metadata": {},
   "outputs": [],
   "source": [
    "#add constraints that no team can plays itself\n",
    "con0 = m1.addConstrs((x[h,h,w] == 0 for h in T for w in W))"
   ]
  },
  {
   "cell_type": "code",
   "execution_count": 175,
   "metadata": {},
   "outputs": [],
   "source": [
    "#add constraints game pattern \n",
    "con_h = m1.addConstrs(sum(x[h,a,w] + x[h,a,w+1] + x[h,a,w+2] for a in T) <= 2 for h in T for w in range(8,10))"
   ]
  },
  {
   "cell_type": "code",
   "execution_count": 176,
   "metadata": {},
   "outputs": [],
   "source": [
    "con_h1 = m1.addConstrs(sum(x[h,a,w] + x[h,a,w+1] + x[h,a,w+2] for a in T) <= 2 for h in T for w in range(6))"
   ]
  },
  {
   "cell_type": "code",
   "execution_count": 177,
   "metadata": {},
   "outputs": [],
   "source": [
    "con_a = m1.addConstrs(sum(x[h,a,w] + x[h,a,w+1] + x[h,a,w+2] for a in T) >= 1 for h in T for w in range(8,10))"
   ]
  },
  {
   "cell_type": "code",
   "execution_count": 178,
   "metadata": {},
   "outputs": [],
   "source": [
    "con_a = m1.addConstrs(sum(x[h,a,w] + x[h,a,w+1] + x[h,a,w+2] for a in T) >= 1 for h in T for w in range(6))"
   ]
  },
  {
   "cell_type": "code",
   "execution_count": null,
   "metadata": {},
   "outputs": [],
   "source": [
    "#home games\n",
    "for i in range(T):\n",
    "    for k in range(6):\n",
    "        home = 0\n",
    "        for j in range(N):\n",
    "            home += x_ijk[i,j,k]+x_ijk[i,j,k+1]+x_ijk[i,j,k+2]\n",
    "    for k in range(8,10):\n",
    "        home = 0\n",
    "        for j in range(N):\n",
    "            home += x_ijk[i,j,k]+x_ijk[i,j,k+1]+x_ijk[i,j,k+2]\n",
    "        m1.addConstr(home<=2)\n",
    "\n",
    "        \n",
    "for i in range(N):\n",
    "    for k in range(6):\n",
    "        home = 0\n",
    "        for j in range(N):\n",
    "            home += x_ijk[i,j,k]+x_ijk[i,j,k+1]+x_ijk[i,j,k+2]\n",
    "    for k in range(8,10):\n",
    "        home = 0\n",
    "        for j in range(N):\n",
    "            home += x_ijk[i,j,k]+x_ijk[i,j,k+1]+x_ijk[i,j,k+2]\n",
    "        m1.addConstr(home>=1)"
   ]
  },
  {
   "cell_type": "code",
   "execution_count": null,
   "metadata": {},
   "outputs": [],
   "source": []
  },
  {
   "cell_type": "code",
   "execution_count": null,
   "metadata": {},
   "outputs": [],
   "source": []
  },
  {
   "cell_type": "code",
   "execution_count": null,
   "metadata": {},
   "outputs": [],
   "source": []
  },
  {
   "cell_type": "code",
   "execution_count": 179,
   "metadata": {},
   "outputs": [],
   "source": [
    "#add constraints bye week\n",
    "con_bye = m1.addConstrs(x[h,a,8] == 0 for h in T for a in T)"
   ]
  },
  {
   "cell_type": "code",
   "execution_count": 155,
   "metadata": {},
   "outputs": [
    {
     "ename": "KeyError",
     "evalue": "(0, 0, 12)",
     "output_type": "error",
     "traceback": [
      "\u001b[0;31m---------------------------------------------------------------------------\u001b[0m",
      "\u001b[0;31mKeyError\u001b[0m                                  Traceback (most recent call last)",
      "\u001b[0;32m<ipython-input-155-993b916bb9c3>\u001b[0m in \u001b[0;36m<module>\u001b[0;34m\u001b[0m\n\u001b[1;32m      3\u001b[0m                      for w in range(0,8))\n\u001b[1;32m      4\u001b[0m \u001b[0;34m\u001b[0m\u001b[0m\n\u001b[0;32m----> 5\u001b[0;31m con_13week = m1.addConstrs(sum(x[h,a,w] + x[a,h,w] for a in T) ==1 for h in T \n\u001b[0m\u001b[1;32m      6\u001b[0m                      for w in range(9,13))\n",
      "\u001b[0;32mmodel.pxi\u001b[0m in \u001b[0;36mgurobipy.Model.addConstrs\u001b[0;34m()\u001b[0m\n",
      "\u001b[0;32m<ipython-input-155-993b916bb9c3>\u001b[0m in \u001b[0;36m<genexpr>\u001b[0;34m(.0)\u001b[0m\n\u001b[1;32m      4\u001b[0m \u001b[0;34m\u001b[0m\u001b[0m\n\u001b[1;32m      5\u001b[0m con_13week = m1.addConstrs(sum(x[h,a,w] + x[a,h,w] for a in T) ==1 for h in T \n\u001b[0;32m----> 6\u001b[0;31m                      for w in range(9,13))\n\u001b[0m",
      "\u001b[0;32m<ipython-input-155-993b916bb9c3>\u001b[0m in \u001b[0;36m<genexpr>\u001b[0;34m(.0)\u001b[0m\n\u001b[1;32m      3\u001b[0m                      for w in range(0,8))\n\u001b[1;32m      4\u001b[0m \u001b[0;34m\u001b[0m\u001b[0m\n\u001b[0;32m----> 5\u001b[0;31m con_13week = m1.addConstrs(sum(x[h,a,w] + x[a,h,w] for a in T) ==1 for h in T \n\u001b[0m\u001b[1;32m      6\u001b[0m                      for w in range(9,13))\n",
      "\u001b[0;31mKeyError\u001b[0m: (0, 0, 12)"
     ]
    }
   ],
   "source": [
    "#Update the week of plays \n",
    "con_8week = m1.addConstrs(sum(x[h,a,w] + x[a,h,w] for a in T) == 1 for h in T \n",
    "                     for w in range(0,8))\n",
    "\n",
    "con_13week = m1.addConstrs(sum(x[h,a,w] + x[a,h,w] for a in T) ==1 for h in T \n",
    "                     for w in range(9,13))\n"
   ]
  },
  {
   "cell_type": "code",
   "execution_count": 180,
   "metadata": {},
   "outputs": [],
   "source": [
    "#add constraints that each team would play at most 6 home games\n",
    "con_BI = m1.addConstrs(x[h,a,w] <=1 for h in T for a in T for w in W)"
   ]
  },
  {
   "cell_type": "code",
   "execution_count": 181,
   "metadata": {},
   "outputs": [],
   "source": [
    "#add constraints that each team would play at most 6 home games\n",
    "con_BI = m1.addConstrs(x[h,a,w] >=0 for h in T for a in T for w in W)"
   ]
  },
  {
   "cell_type": "code",
   "execution_count": null,
   "metadata": {},
   "outputs": [],
   "source": []
  },
  {
   "cell_type": "code",
   "execution_count": 182,
   "metadata": {},
   "outputs": [
    {
     "name": "stdout",
     "output_type": "stream",
     "text": [
      "Gurobi Optimizer version 9.0.3 build v9.0.3rc0 (mac64)\n",
      "Optimize a model with 15984 rows, 6912 columns and 89856 nonzeros\n",
      "Model fingerprint: 0x90784642\n",
      "Variable types: 0 continuous, 6912 integer (6912 binary)\n",
      "Coefficient statistics:\n",
      "  Matrix range     [1e+00, 2e+00]\n",
      "  Objective range  [7e+01, 4e+03]\n",
      "  Bounds range     [1e+00, 1e+00]\n",
      "  RHS range        [1e+00, 1e+01]\n",
      "Presolve removed 14664 rows and 840 columns\n",
      "Presolve time: 0.02s\n",
      "\n",
      "Explored 0 nodes (0 simplex iterations) in 0.12 seconds\n",
      "Thread count was 1 (of 4 available processors)\n",
      "\n",
      "Solution count 0\n",
      "\n",
      "Model is infeasible\n",
      "Best objective -, best bound -, gap -\n"
     ]
    }
   ],
   "source": [
    "m1.setObjective(obj, GRB.MINIMIZE)\n",
    "m1.optimize()"
   ]
  },
  {
   "cell_type": "code",
   "execution_count": null,
   "metadata": {},
   "outputs": [],
   "source": []
  },
  {
   "cell_type": "code",
   "execution_count": null,
   "metadata": {},
   "outputs": [],
   "source": []
  },
  {
   "cell_type": "code",
   "execution_count": null,
   "metadata": {},
   "outputs": [],
   "source": []
  },
  {
   "cell_type": "code",
   "execution_count": null,
   "metadata": {},
   "outputs": [],
   "source": []
  },
  {
   "cell_type": "code",
   "execution_count": null,
   "metadata": {},
   "outputs": [],
   "source": []
  }
 ],
 "metadata": {
  "kernelspec": {
   "display_name": "Python 3",
   "language": "python",
   "name": "python3"
  },
  "language_info": {
   "codemirror_mode": {
    "name": "ipython",
    "version": 3
   },
   "file_extension": ".py",
   "mimetype": "text/x-python",
   "name": "python",
   "nbconvert_exporter": "python",
   "pygments_lexer": "ipython3",
   "version": "3.7.3"
  }
 },
 "nbformat": 4,
 "nbformat_minor": 4
}
