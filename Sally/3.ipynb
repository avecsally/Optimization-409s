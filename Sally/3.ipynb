{
 "cells": [
  {
   "cell_type": "code",
   "execution_count": null,
   "metadata": {},
   "outputs": [],
   "source": []
  },
  {
   "cell_type": "code",
   "execution_count": null,
   "metadata": {},
   "outputs": [],
   "source": []
  },
  {
   "cell_type": "code",
   "execution_count": null,
   "metadata": {},
   "outputs": [],
   "source": [
    "#6. Eachteam has a maximum distance to travel\n",
    "m1.addConstrs((sum(x[h,a,w] * E.iloc[h,a] * 2 for w in range(weeks) for h in T) <= 11000\n",
    "            for a in N)"
   ]
  },
  {
   "cell_type": "code",
   "execution_count": null,
   "metadata": {},
   "outputs": [],
   "source": [
    "#6. Eachteam has a maximum distance to travel\n",
    "m1.addConstrs((sum(x[h,a,w] * E.iloc[h,a] * 2 for w in range(weeks) for h in T) <= 10900\n",
    "            for a in N)"
   ]
  },
  {
   "cell_type": "code",
   "execution_count": null,
   "metadata": {},
   "outputs": [],
   "source": [
    "########################################\n",
    "########### PRINT RESULTS ##############\n",
    "########################################\n",
    "\n",
    "# ADD PRINTING HERE:\n",
    "\n",
    "# print the total distance travelled by all teams\n",
    "print('\\nValue of objective function: %g' % m1.objVal)\n",
    "\n",
    "# print the optimal schedule for Cleveland Browns\n",
    "#14:\"Cleveland Browns\"\n",
    "rows=[]\n",
    "for v in m1.getVars():\n",
    "    if v.varName.find(\"14\")!= -1 and v.x==1:\n",
    "        rows.append([v.varName, v.x])\n",
    "print('\\n Schedule for Cleveland Browns')\n",
    "df = pd.DataFrame(rows, columns=[\"v.varName\", \"v.x\"])\n",
    "print(df)\n",
    "\n",
    "\n",
    "# Q3: print distance that each team travels\n",
    "distance_eachteam = {}\n",
    "\n",
    "for a in Team_list:\n",
    "    distance_travelled = 0\n",
    "    for w in range(12):\n",
    "        for h in range(24):\n",
    "            distance_travelled += x[h,a,w].x*E.iloc[h,a]*2\n",
    "        distance_eachteam[Team_list[a]] = distance_travelled\n",
    "\n",
    "print(distance_eachteam)\n",
    "\n",
    "keymax = max(distance_eachteam, key=distance_eachteam.get)\n",
    "keymin = min(distance_eachteam, key=distance_eachteam.get)\n",
    "print('\\nTeam which travels the max distance:' +' '+ keymax)\n",
    "print('\\nTeam which travels the min distance:' +' '+  keymin)\n",
    "\n",
    "Difference = distance_eachteam[max(distance_eachteam, key=distance_eachteam.get)]-distance_eachteam[min(distance_eachteam, key=distance_eachteam.get)]\n",
    "print('\\nDifference in distance travelled: %g' % Difference)\n"
   ]
  },
  {
   "cell_type": "code",
   "execution_count": null,
   "metadata": {},
   "outputs": [],
   "source": []
  },
  {
   "cell_type": "code",
   "execution_count": null,
   "metadata": {},
   "outputs": [],
   "source": []
  },
  {
   "cell_type": "code",
   "execution_count": null,
   "metadata": {},
   "outputs": [],
   "source": [
    "# minimunm of the maximum is 9000. Update the constraint \n",
    "m1.addConstrs((sum(x[h,a,w] * E.iloc[h,a] * 2 for w in range(weeks) for h in T) <= 9000\n",
    "            for a in N)"
   ]
  },
  {
   "cell_type": "code",
   "execution_count": null,
   "metadata": {},
   "outputs": [],
   "source": [
    "#no feasible "
   ]
  },
  {
   "cell_type": "code",
   "execution_count": null,
   "metadata": {},
   "outputs": [],
   "source": [
    "# minimunm of the maximum is 9500. Add 500 and Update the constraint \n",
    "m1.addConstrs((sum(x[h,a,w] * E.iloc[h,a] * 2 for w in range(weeks) for h in T) <= 9500\n",
    "            for a in N)"
   ]
  },
  {
   "cell_type": "code",
   "execution_count": null,
   "metadata": {},
   "outputs": [],
   "source": []
  },
  {
   "cell_type": "code",
   "execution_count": null,
   "metadata": {},
   "outputs": [],
   "source": [
    "#plot the graph \n",
    "#y-total amount travelled by all teams\n",
    "#x-distance travelled by the team which travels the most"
   ]
  },
  {
   "cell_type": "code",
   "execution_count": null,
   "metadata": {},
   "outputs": [],
   "source": []
  },
  {
   "cell_type": "code",
   "execution_count": null,
   "metadata": {},
   "outputs": [],
   "source": []
  }
 ],
 "metadata": {
  "kernelspec": {
   "display_name": "Python 3",
   "language": "python",
   "name": "python3"
  },
  "language_info": {
   "codemirror_mode": {
    "name": "ipython",
    "version": 3
   },
   "file_extension": ".py",
   "mimetype": "text/x-python",
   "name": "python",
   "nbconvert_exporter": "python",
   "pygments_lexer": "ipython3",
   "version": "3.7.3"
  }
 },
 "nbformat": 4,
 "nbformat_minor": 4
}
