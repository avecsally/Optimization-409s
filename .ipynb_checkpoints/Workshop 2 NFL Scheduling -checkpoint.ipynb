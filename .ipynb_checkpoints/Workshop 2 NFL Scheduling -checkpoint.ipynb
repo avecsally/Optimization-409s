{
 "cells": [
  {
   "cell_type": "markdown",
   "metadata": {},
   "source": [
    "# Game Schedule for U.S. National Football League"
   ]
  },
  {
   "cell_type": "markdown",
   "metadata": {},
   "source": [
    "Fall 2020 Optimization "
   ]
  },
  {
   "cell_type": "markdown",
   "metadata": {},
   "source": [
    "Jianing Zhang, Junyi Qian, Yue Zheng, Ziqiao Yan"
   ]
  },
  {
   "cell_type": "markdown",
   "metadata": {},
   "source": [
    "\n",
    "NFL is the professional American football league consisting of 32 teams, divided equally between the National Football Conference (NFC) and the American Football Conference (AFC).\n",
    "Each conference is further divided into four division of four clubs and every NFL team is based in the contiguous United States. Since the analysis including all the teams right-away was estimated to be computationally intensive, Liang was asked to develop a preliminary analysis for a subset of teams, namely for teams in the East, North, and South divisions. This setup was agreed by the NFL schedulers to approximate the overall problem sufficiently well to come up with recommendations. Figure 1 shows all the 24 teams that are included in the analysis."
   ]
  },
  {
   "cell_type": "markdown",
   "metadata": {},
   "source": [
    "The scheduling of games for the selected subset of teams is constrained by the following four main rules:"
   ]
  },
  {
   "cell_type": "markdown",
   "metadata": {},
   "source": [
    "1. The season was limited to 12 weeks.\n",
    "2. Each team would play once per week.\n",
    "3. All 12 games that a team played would need to be against a different opponent.\n",
    "4. Each team would play at most six home games (i.e., on their home stadium)."
   ]
  },
  {
   "cell_type": "markdown",
   "metadata": {},
   "source": [
    "Whereas the overall goal was to reduce the total distance that the teams travelled, there were also other considerations, such as the fairness of the game schedule for all teams and the fairness of the game schedule for broad casting companies. With these thoughts in mind, Liang embarked on the analysis of the NFL game scheduling."
   ]
  },
  {
   "cell_type": "markdown",
   "metadata": {},
   "source": [
    "## Assignment"
   ]
  },
  {
   "cell_type": "markdown",
   "metadata": {},
   "source": [
    "\n",
    "In this workshop, you will build an integer programming model and use the results of the optimization to support your recommendations. Make a report of about 3 pages (excluding figures, graphs and appendices) summarizing your results, your interpretation of the results and your conclusions and recommendations. You can include graphs and outputs in an appendix, but make sure to summarize and interpret the results in your report as well."
   ]
  },
  {
   "cell_type": "code",
   "execution_count": 3,
   "metadata": {},
   "outputs": [],
   "source": [
    "import gurobipy as gp\n",
    "from gurobipy import GRB\n",
    "from gurobipy import *\n",
    "import pandas as pd\n",
    "import numpy as np"
   ]
  },
  {
   "cell_type": "code",
   "execution_count": 11,
   "metadata": {},
   "outputs": [],
   "source": [
    "#list of teams that are included in the analysis\n",
    "Team_list={\n",
    "0:\"Atlanta Falcons\",1:\"Carolina Panthers\",2:\"Chicago Bears\",3:\"Detroit Lions\",\n",
    "4:\"Green Bay Packers\",5:\"Minnesota Vikings\",6:\"New Orleans Saints\",7:\"New York Giants\",\n",
    "8:\"Philadelpia Eagles\",9:\"Tampa Bay Buccaneers\",10:\"Washington Football Team\",11:\"Baltimore Ravens\",\n",
    "12:\"Buffalo Bills\",13:\"Cincinnati Bengals\",14:\"Cleveland Browns\",15:\"Houston Texans\",\n",
    "16:\"Indianapolis Colts\",17:\"Jacksonville Jaguars\",18:\"Miami Dolphins\",19:\"New England Patroits\",\n",
    "20:\"New York Jets\",21:\"Pittsburgh Steelers\",22:\"Tennessee Titans\",23:\"Dalls Cowboys\"}"
   ]
  },
  {
   "cell_type": "code",
   "execution_count": 12,
   "metadata": {},
   "outputs": [],
   "source": [
    "W=set(list(range(0,12))) #set of weeks, total of 12 weeks\n",
    "T=set(list(range(0,24))) #set of teams all, total of 24 teams\n",
    " #set of conference\n",
    "D1=set(list(range(0,12)))  #set of AFC teams\n",
    "D2=set(list(range(12,24))) #set of NFC teams\n",
    "\n",
    "#read the distance file\n",
    "E=pd.read_csv(\"distance.csv\",index_col=0)"
   ]
  },
  {
   "cell_type": "code",
   "execution_count": null,
   "metadata": {},
   "outputs": [],
   "source": [
    "########################################\n",
    "########### MODEL ######################\n",
    "########################################\n",
    "\n",
    "# Create an empty model\n",
    "m1= gp.Model(name=\"NFL1\")"
   ]
  },
  {
   "cell_type": "markdown",
   "metadata": {},
   "source": [
    "## 1. The Plain Vanilla Schedule"
   ]
  },
  {
   "cell_type": "markdown",
   "metadata": {},
   "source": [
    "To start, develop a schedule that <strong>minimizes the total travel distance of all teams</strong>. The distances between the home stadiums of each team are shown in miles in the file “distance.cvs”. When calculating the distances that teams travel, you can assume that after each game the team that played away will travel back to their home stadium before the next game. Include in your model the four main rules."
   ]
  },
  {
   "cell_type": "markdown",
   "metadata": {},
   "source": [
    "#### - What are the decision variables in this problem?"
   ]
  },
  {
   "cell_type": "markdown",
   "metadata": {},
   "source": [
    "The decision variable should be considered as a binary indication of weather home team $h$ would play against away team $a$ on week $w$. For example, if $x_{h,a,w}$ equals to 1, is means that the home team $h$ would play against with away team $a$ on week $w$. Otherwise, the game does not happen. "
   ]
  },
  {
   "cell_type": "markdown",
   "metadata": {},
   "source": [
    "#### - What is the objective function? What are the constraints?"
   ]
  },
  {
   "cell_type": "markdown",
   "metadata": {},
   "source": [
    "The objective function which minimizes the total travel distance of all teams should be the summed product of all the teams travel distances through out the 12 weeks. If we assume the travel distance from the origin to destination as $d_{h,a}$， the objective function should be defined as"
   ]
  },
  {
   "cell_type": "markdown",
   "metadata": {},
   "source": [
    "$min\\sum_{h,a,w}x_{h,a,w}\\cdot 2d_{h,a} $"
   ]
  },
  {
   "cell_type": "code",
   "execution_count": null,
   "metadata": {},
   "outputs": [],
   "source": [
    "# ADD DECISION VARIABLES HERE\n",
    "home=len(E.columns)\n",
    "away=len(E.columns)\n",
    "#teams=len(E.columns)\n",
    "weeks=12\n",
    "x=m1.addVars(home, away, weeks, vtype=GRB.BINARY, name=\"x\")"
   ]
  },
  {
   "cell_type": "code",
   "execution_count": null,
   "metadata": {},
   "outputs": [],
   "source": [
    "########################################\n",
    "#### CONSTRAINTS & OBJ FUNCTIONS #######\n",
    "########################################\n",
    "\n",
    "# ADD OBJECTIVE FUNCTION HERE\n",
    "obj = sum(sum(2*E.iloc[h,a] * x[h,a,w] for h in range(home) for a in range(away)) for w in range(weeks))\n",
    "m1.setObjective(obj, GRB.MINIMIZE)"
   ]
  },
  {
   "cell_type": "markdown",
   "metadata": {},
   "source": [
    "The constraints for the schedualing, as discussed in the problem statement as follows"
   ]
  },
  {
   "cell_type": "markdown",
   "metadata": {},
   "source": [
    "1. The season was limited to 12 weeks.\n",
    "2. Each team would play once per week.\n",
    "3. All 12 games that a team played would need to be against a different opponent.\n",
    "4. Each team would play at most six home games (i.e., on their home stadium)."
   ]
  },
  {
   "cell_type": "markdown",
   "metadata": {},
   "source": [
    "#### - Write down the mathematical formulation of the problem."
   ]
  },
  {
   "cell_type": "markdown",
   "metadata": {},
   "source": [
    "$min\\sum_{h,a,w}x_{h,a,w}\\cdot 2d_{h,a} $"
   ]
  },
  {
   "cell_type": "markdown",
   "metadata": {},
   "source": [
    "subject to "
   ]
  },
  {
   "cell_type": "markdown",
   "metadata": {},
   "source": [
    "1. The season was limited to 12 weeks:"
   ]
  },
  {
   "cell_type": "markdown",
   "metadata": {},
   "source": [
    "$\\sum_{h}\\sum_{w}[x_{h,a,w}+x_{h,a,w}]=12$"
   ]
  },
  {
   "cell_type": "code",
   "execution_count": null,
   "metadata": {},
   "outputs": [],
   "source": [
    "con1=m1.addConstrs(sum(x[h,a,w] + x[h,a,w] for h in range(home) for w in range(weeks)) == 12 \n",
    "               for a in range(away))"
   ]
  },
  {
   "cell_type": "markdown",
   "metadata": {},
   "source": [
    "2. Each team would play once per week."
   ]
  },
  {
   "cell_type": "markdown",
   "metadata": {},
   "source": [
    "$\\sum_{h}[x_{h,a,w}+x_{a,h,w}]=1$"
   ]
  },
  {
   "cell_type": "code",
   "execution_count": null,
   "metadata": {},
   "outputs": [],
   "source": [
    "con2=m1.addConstrs(sum(x[h,a,w] +x[a,h,w] for h in range(home)) == 1 \n",
    "              for w in range(weeks) for a in range(away))"
   ]
  },
  {
   "cell_type": "markdown",
   "metadata": {},
   "source": [
    "3. All 12 games that a team played would need to be against a different opponent."
   ]
  },
  {
   "cell_type": "markdown",
   "metadata": {},
   "source": [
    "$\\sum_{w}[x_{h,a,w}+x_{a,h,w}]<=1$"
   ]
  },
  {
   "cell_type": "code",
   "execution_count": null,
   "metadata": {},
   "outputs": [],
   "source": [
    "con3=m1.addConstrs(sum(x[h,a,w] + x[a,h,w] for w in range(weeks)) <= 1 \n",
    "                       for h in range(home) for a in range(away))"
   ]
  },
  {
   "cell_type": "markdown",
   "metadata": {},
   "source": [
    "4. Each team would play at most six home games (i.e., on their home stadium)."
   ]
  },
  {
   "cell_type": "markdown",
   "metadata": {},
   "source": [
    "$\\sum_{h}\\sum_{w}x_{h,a,w}<=6$"
   ]
  },
  {
   "cell_type": "code",
   "execution_count": null,
   "metadata": {},
   "outputs": [],
   "source": [
    "con4=m1.addConstrs(sum(x[h,a,w] for h in range(home) for w in range(weeks) ) <= 6 \n",
    "                   for a in range(away))"
   ]
  },
  {
   "cell_type": "markdown",
   "metadata": {},
   "source": [
    "Update and optimize the model"
   ]
  },
  {
   "cell_type": "code",
   "execution_count": null,
   "metadata": {},
   "outputs": [],
   "source": [
    "m1.update()\n",
    "m1"
   ]
  },
  {
   "cell_type": "code",
   "execution_count": null,
   "metadata": {},
   "outputs": [],
   "source": [
    "m1.optimize()"
   ]
  },
  {
   "cell_type": "markdown",
   "metadata": {},
   "source": [
    "#### Develop your optimization model and save it as “nfl 1.py”. \n",
    "\n",
    "(i) the minimum total distance travelled by all teams \n",
    "\n",
    "(ii) illustrate the optimal schedule for Cleveland Browns. How does the home and away game pattern look like for the Cleveland Browns?\n"
   ]
  },
  {
   "cell_type": "code",
   "execution_count": null,
   "metadata": {},
   "outputs": [],
   "source": [
    "########################################\n",
    "########### PRINT RESULTS ##############\n",
    "########################################\n",
    "\n",
    "# ADD PRINTING HERE:\n",
    "\n",
    "\n",
    "\n",
    "# print the total distance travelled by all teams\n",
    "\n",
    "if m1.status == GRB.OPTIMAL:\n",
    "    # Print solution\n",
    "    print(\"\\nTotal distance: {}\\n\". format(m1.ObjVal))    \n",
    "\n",
    "# print the optimal schedule for the decision variables\n",
    "\n",
    "print('\\nDecision variables:')\n",
    "for v in m1.getVars():\n",
    "    if v.x== 1:\n",
    "        s=(\"%s : %g\" % (v.varName, v.obj))\n",
    "        print(s)"
   ]
  },
  {
   "cell_type": "code",
   "execution_count": null,
   "metadata": {},
   "outputs": [],
   "source": []
  },
  {
   "cell_type": "markdown",
   "metadata": {},
   "source": [
    "## 2. Game Pattern and Bye Week Constraints"
   ]
  },
  {
   "cell_type": "markdown",
   "metadata": {},
   "source": [
    "\n",
    "The NFL schedulers asked whether it would be possible to adjust the plain vanilla schedule (which followed the four main rules) to obtain a schedule in which no team would play more than two consecutive games at home or two consecutive games away. The logic behind these game pattern constraints was to provide a fairer schedule for the teams in terms of them having similar home/away game patterns."
   ]
  },
  {
   "cell_type": "markdown",
   "metadata": {},
   "source": [
    "#### -What is the mathematical formulation for the game pattern constraints?"
   ]
  },
  {
   "cell_type": "markdown",
   "metadata": {},
   "source": [
    "In order to have no team play no more than two consecutive games at home or away, we need to have another two binary decision variables $y_{h,w}$ and $z_{h,w}$. \n",
    "\n",
    "$y_{h,w}$ denotes to weather home team $h$ plays at home in weeks $w$ and $w+1$. If $y_{h,w}=1$, it means that home team $h$ plays at home on weeks $w$ and $w+1$, $y_{h,w}=0$ otherwise. \n",
    "\n",
    "$z_{h,w}$ denotes to weather home team $h$ plays away in weeks $w$ and $w+1$. If $z_{h,w}=1$, it means that home team $h$ plays away on weeks $w$ and $w+1$, $z_{h,w}=0$ otherwise. "
   ]
  },
  {
   "cell_type": "markdown",
   "metadata": {},
   "source": [
    "Adjust the model developed in part 1. by incorporating the game pattern constraints and save the model as “nfl 2a.py”. \n",
    "\n",
    "#### -What are the implications of the game pattern constraints? \n",
    "\n",
    "If $y_{h,w}$ and $z_{h,w}$ equals to 1, it means the home team $h$ played two consecutive games at home or away. \n"
   ]
  },
  {
   "cell_type": "markdown",
   "metadata": {},
   "source": [
    "5. No team play no more than two consecutive games at home. "
   ]
  },
  {
   "cell_type": "markdown",
   "metadata": {},
   "source": [
    "$\\sum_{w}y_{h,w}<=1$"
   ]
  },
  {
   "cell_type": "markdown",
   "metadata": {},
   "source": [
    "$\\sum_{a}[x_{h,a,w}+x_{h,a,w+1}]<=1+y_{h,w}$"
   ]
  },
  {
   "cell_type": "code",
   "execution_count": null,
   "metadata": {},
   "outputs": [],
   "source": [
    "con5a=m1.addConstrs(sum(y[h,w] for w in range(weeks)) <= 1 \n",
    "                   for h in range(home))"
   ]
  },
  {
   "cell_type": "code",
   "execution_count": null,
   "metadata": {},
   "outputs": [],
   "source": [
    "con5b=m1.addConstrs(sum(x[h,a,w] + x[h,a,w+1] for a in range(away)) <= 1 + y[h,w] \n",
    "               for h in range(home) for w in range(weeks-1))"
   ]
  },
  {
   "cell_type": "markdown",
   "metadata": {},
   "source": [
    "6. No team play no more than two consecutive games away."
   ]
  },
  {
   "cell_type": "markdown",
   "metadata": {},
   "source": [
    "$\\sum_{w}z_{h,w}<=1$"
   ]
  },
  {
   "cell_type": "markdown",
   "metadata": {},
   "source": [
    "$\\sum_{a}[x_{h,a,w}+x_{h,a,w+1}]<=1+z_{h,w}$"
   ]
  },
  {
   "cell_type": "code",
   "execution_count": null,
   "metadata": {},
   "outputs": [],
   "source": [
    "con6a=m1.addConstrs(sum(z[h,w] for w in range(weeks)) <= 1 \n",
    "                   for h in range(home))"
   ]
  },
  {
   "cell_type": "code",
   "execution_count": null,
   "metadata": {},
   "outputs": [],
   "source": [
    "con6b=m1.addConstrs(sum(x[h,a,w] + x[h,a,w+1] for a in range(away)) <= 1 + z[h,w] \n",
    "               for h in range(home) for w in range(weeks-1))"
   ]
  },
  {
   "cell_type": "markdown",
   "metadata": {},
   "source": [
    "- What happened to the minimum total distance travelled by all teams and the optimal schedule for Cleveland Browns?"
   ]
  },
  {
   "cell_type": "markdown",
   "metadata": {},
   "source": []
  },
  {
   "cell_type": "markdown",
   "metadata": {},
   "source": [
    "To further reduce the fatigue caused by the competition and travelling, the NFL schedulers asked to incorporate in the schedule a week when there are no games. This one-week long break is also referred as the bye week. Suppose that the schedulers requested the bye week to be assigned on week 9, which means that there are no games at week 9, and that the whole season is extended by a week up to 13 weeks.\n"
   ]
  },
  {
   "cell_type": "markdown",
   "metadata": {},
   "source": [
    "#### -What are the required changes for the mathematical formulation to incorporate also the bye week constraint?"
   ]
  },
  {
   "cell_type": "code",
   "execution_count": null,
   "metadata": {},
   "outputs": [],
   "source": []
  },
  {
   "cell_type": "code",
   "execution_count": null,
   "metadata": {},
   "outputs": [],
   "source": []
  },
  {
   "cell_type": "markdown",
   "metadata": {},
   "source": [
    "Adjust the model “nfl 2a.py” by incorporating the bye week constraint and save the model as “nfl 2b.py”. \n",
    "\n",
    "#### -What are the consequences for the minimum total distance travelled by all teams and the optimal schedule for Cleveland Browns?"
   ]
  },
  {
   "cell_type": "code",
   "execution_count": null,
   "metadata": {},
   "outputs": [],
   "source": []
  },
  {
   "cell_type": "markdown",
   "metadata": {},
   "source": [
    "#### -Would you recommend adding the game pattern and bye week constraints?"
   ]
  },
  {
   "cell_type": "code",
   "execution_count": null,
   "metadata": {},
   "outputs": [],
   "source": [
    "哔哔哔哔哔哔不不"
   ]
  },
  {
   "cell_type": "code",
   "execution_count": null,
   "metadata": {},
   "outputs": [],
   "source": []
  },
  {
   "cell_type": "code",
   "execution_count": null,
   "metadata": {},
   "outputs": [],
   "source": []
  },
  {
   "cell_type": "code",
   "execution_count": null,
   "metadata": {},
   "outputs": [],
   "source": []
  },
  {
   "cell_type": "code",
   "execution_count": null,
   "metadata": {},
   "outputs": [],
   "source": []
  },
  {
   "cell_type": "code",
   "execution_count": null,
   "metadata": {},
   "outputs": [],
   "source": []
  },
  {
   "cell_type": "code",
   "execution_count": null,
   "metadata": {},
   "outputs": [],
   "source": []
  },
  {
   "cell_type": "code",
   "execution_count": null,
   "metadata": {},
   "outputs": [],
   "source": []
  },
  {
   "cell_type": "code",
   "execution_count": null,
   "metadata": {},
   "outputs": [],
   "source": []
  },
  {
   "cell_type": "code",
   "execution_count": null,
   "metadata": {},
   "outputs": [],
   "source": []
  }
 ],
 "metadata": {
  "kernelspec": {
   "display_name": "Python 3",
   "language": "python",
   "name": "python3"
  },
  "language_info": {
   "codemirror_mode": {
    "name": "ipython",
    "version": 3
   },
   "file_extension": ".py",
   "mimetype": "text/x-python",
   "name": "python",
   "nbconvert_exporter": "python",
   "pygments_lexer": "ipython3",
   "version": "3.7.3"
  }
 },
 "nbformat": 4,
 "nbformat_minor": 4
}
